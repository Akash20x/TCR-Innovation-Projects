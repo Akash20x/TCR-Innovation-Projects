{
  "nbformat": 4,
  "nbformat_minor": 5,
  "metadata": {
    "kernelspec": {
      "display_name": "Python 3",
      "language": "python",
      "name": "python3"
    },
    "language_info": {
      "codemirror_mode": {
        "name": "ipython",
        "version": 3
      },
      "file_extension": ".py",
      "mimetype": "text/x-python",
      "name": "python",
      "nbconvert_exporter": "python",
      "pygments_lexer": "ipython3",
      "version": "3.8.8"
    },
    "colab": {
      "name": "Thyroid Disease Prediction.ipynb",
      "provenance": []
    }
  },
  "cells": [
    {
      "cell_type": "markdown",
      "metadata": {
        "id": "x0E8E9P0r2Ia"
      },
      "source": [
        "# **Author : Akash Jain**\n",
        "# **Thyroid Disease Prediction** "
      ],
      "id": "x0E8E9P0r2Ia"
    },
    {
      "cell_type": "markdown",
      "metadata": {
        "id": "dAGaTESR2-yq"
      },
      "source": [
        "## Importing Libraries"
      ],
      "id": "dAGaTESR2-yq"
    },
    {
      "cell_type": "code",
      "metadata": {
        "id": "81bb2c38"
      },
      "source": [
        "# importing required libraries\n",
        "\n",
        "import pandas as pd\n",
        "import matplotlib.pyplot as plt\n",
        "import numpy as np\n",
        "from sklearn.metrics import accuracy_score\n",
        "from sklearn.model_selection import train_test_split\n",
        "import seaborn as sns\n",
        "from sklearn.model_selection import cross_val_score\n",
        "from sklearn.model_selection import StratifiedKFold\n",
        "from sklearn.preprocessing import StandardScaler\n",
        "from joblib import dump, load\n",
        "import warnings\n",
        "warnings.filterwarnings(\"ignore\")"
      ],
      "id": "81bb2c38",
      "execution_count": 1,
      "outputs": []
    },
    {
      "cell_type": "markdown",
      "metadata": {
        "id": "4zVOsKU-3WE2"
      },
      "source": [
        "## Reading Dataset"
      ],
      "id": "4zVOsKU-3WE2"
    },
    {
      "cell_type": "code",
      "metadata": {
        "id": "99a1c8ac"
      },
      "source": [
        "# oad data into dataframe\n",
        "df = pd.read_csv(\"thyroid.csv\")"
      ],
      "id": "99a1c8ac",
      "execution_count": 2,
      "outputs": []
    },
    {
      "cell_type": "code",
      "metadata": {
        "id": "639ef852",
        "colab": {
          "base_uri": "https://localhost:8080/",
          "height": 243
        },
        "outputId": "a403e72a-7d96-4f1a-b79d-788effd7b5c1"
      },
      "source": [
        "# Display first 5 rows of the dataframe\n",
        "df.head()"
      ],
      "id": "639ef852",
      "execution_count": 3,
      "outputs": [
        {
          "output_type": "execute_result",
          "data": {
            "text/html": [
              "<div>\n",
              "<style scoped>\n",
              "    .dataframe tbody tr th:only-of-type {\n",
              "        vertical-align: middle;\n",
              "    }\n",
              "\n",
              "    .dataframe tbody tr th {\n",
              "        vertical-align: top;\n",
              "    }\n",
              "\n",
              "    .dataframe thead th {\n",
              "        text-align: right;\n",
              "    }\n",
              "</style>\n",
              "<table border=\"1\" class=\"dataframe\">\n",
              "  <thead>\n",
              "    <tr style=\"text-align: right;\">\n",
              "      <th></th>\n",
              "      <th>Age</th>\n",
              "      <th>Sex</th>\n",
              "      <th>On_thyroxine</th>\n",
              "      <th>Query_on_thyroxine</th>\n",
              "      <th>On_antithyroid_medication</th>\n",
              "      <th>Sick</th>\n",
              "      <th>Pregnant</th>\n",
              "      <th>Thyroid surgery</th>\n",
              "      <th>I131_treatment</th>\n",
              "      <th>Query_hypothyroid</th>\n",
              "      <th>Query_hyperthyroid</th>\n",
              "      <th>Lithium</th>\n",
              "      <th>Goiter</th>\n",
              "      <th>Tumor</th>\n",
              "      <th>Hypopituitary</th>\n",
              "      <th>Psych</th>\n",
              "      <th>TSH</th>\n",
              "      <th>T3</th>\n",
              "      <th>TT4</th>\n",
              "      <th>T4U</th>\n",
              "      <th>FTI</th>\n",
              "      <th>Class</th>\n",
              "    </tr>\n",
              "  </thead>\n",
              "  <tbody>\n",
              "    <tr>\n",
              "      <th>0</th>\n",
              "      <td>0.24</td>\n",
              "      <td>0</td>\n",
              "      <td>0</td>\n",
              "      <td>0</td>\n",
              "      <td>0</td>\n",
              "      <td>0</td>\n",
              "      <td>0</td>\n",
              "      <td>0</td>\n",
              "      <td>0</td>\n",
              "      <td>0</td>\n",
              "      <td>0</td>\n",
              "      <td>0</td>\n",
              "      <td>0</td>\n",
              "      <td>0</td>\n",
              "      <td>0</td>\n",
              "      <td>0</td>\n",
              "      <td>0.00025</td>\n",
              "      <td>0.030</td>\n",
              "      <td>0.143</td>\n",
              "      <td>0.133</td>\n",
              "      <td>0.108</td>\n",
              "      <td>3</td>\n",
              "    </tr>\n",
              "    <tr>\n",
              "      <th>1</th>\n",
              "      <td>0.47</td>\n",
              "      <td>0</td>\n",
              "      <td>0</td>\n",
              "      <td>0</td>\n",
              "      <td>0</td>\n",
              "      <td>0</td>\n",
              "      <td>0</td>\n",
              "      <td>0</td>\n",
              "      <td>0</td>\n",
              "      <td>0</td>\n",
              "      <td>0</td>\n",
              "      <td>0</td>\n",
              "      <td>0</td>\n",
              "      <td>0</td>\n",
              "      <td>0</td>\n",
              "      <td>0</td>\n",
              "      <td>0.00190</td>\n",
              "      <td>0.024</td>\n",
              "      <td>0.102</td>\n",
              "      <td>0.131</td>\n",
              "      <td>0.078</td>\n",
              "      <td>3</td>\n",
              "    </tr>\n",
              "    <tr>\n",
              "      <th>2</th>\n",
              "      <td>0.64</td>\n",
              "      <td>1</td>\n",
              "      <td>0</td>\n",
              "      <td>0</td>\n",
              "      <td>0</td>\n",
              "      <td>0</td>\n",
              "      <td>0</td>\n",
              "      <td>0</td>\n",
              "      <td>0</td>\n",
              "      <td>0</td>\n",
              "      <td>0</td>\n",
              "      <td>0</td>\n",
              "      <td>0</td>\n",
              "      <td>0</td>\n",
              "      <td>0</td>\n",
              "      <td>0</td>\n",
              "      <td>0.00090</td>\n",
              "      <td>0.017</td>\n",
              "      <td>0.077</td>\n",
              "      <td>0.090</td>\n",
              "      <td>0.085</td>\n",
              "      <td>3</td>\n",
              "    </tr>\n",
              "    <tr>\n",
              "      <th>3</th>\n",
              "      <td>0.23</td>\n",
              "      <td>0</td>\n",
              "      <td>0</td>\n",
              "      <td>0</td>\n",
              "      <td>0</td>\n",
              "      <td>0</td>\n",
              "      <td>0</td>\n",
              "      <td>0</td>\n",
              "      <td>0</td>\n",
              "      <td>0</td>\n",
              "      <td>0</td>\n",
              "      <td>0</td>\n",
              "      <td>0</td>\n",
              "      <td>0</td>\n",
              "      <td>0</td>\n",
              "      <td>0</td>\n",
              "      <td>0.00025</td>\n",
              "      <td>0.026</td>\n",
              "      <td>0.139</td>\n",
              "      <td>0.090</td>\n",
              "      <td>0.153</td>\n",
              "      <td>3</td>\n",
              "    </tr>\n",
              "    <tr>\n",
              "      <th>4</th>\n",
              "      <td>0.69</td>\n",
              "      <td>1</td>\n",
              "      <td>0</td>\n",
              "      <td>0</td>\n",
              "      <td>0</td>\n",
              "      <td>0</td>\n",
              "      <td>0</td>\n",
              "      <td>0</td>\n",
              "      <td>0</td>\n",
              "      <td>0</td>\n",
              "      <td>0</td>\n",
              "      <td>0</td>\n",
              "      <td>0</td>\n",
              "      <td>0</td>\n",
              "      <td>0</td>\n",
              "      <td>0</td>\n",
              "      <td>0.00025</td>\n",
              "      <td>0.016</td>\n",
              "      <td>0.086</td>\n",
              "      <td>0.070</td>\n",
              "      <td>0.123</td>\n",
              "      <td>3</td>\n",
              "    </tr>\n",
              "  </tbody>\n",
              "</table>\n",
              "</div>"
            ],
            "text/plain": [
              "    Age  Sex  On_thyroxine  Query_on_thyroxine  ...    TT4    T4U    FTI  Class\n",
              "0  0.24    0             0                   0  ...  0.143  0.133  0.108      3\n",
              "1  0.47    0             0                   0  ...  0.102  0.131  0.078      3\n",
              "2  0.64    1             0                   0  ...  0.077  0.090  0.085      3\n",
              "3  0.23    0             0                   0  ...  0.139  0.090  0.153      3\n",
              "4  0.69    1             0                   0  ...  0.086  0.070  0.123      3\n",
              "\n",
              "[5 rows x 22 columns]"
            ]
          },
          "metadata": {
            "tags": []
          },
          "execution_count": 3
        }
      ]
    },
    {
      "cell_type": "code",
      "metadata": {
        "id": "ksuJnVUJsnKt",
        "outputId": "121721a6-17f4-4ad9-da6f-02434a4416a4",
        "colab": {
          "base_uri": "https://localhost:8080/"
        }
      },
      "source": [
        "# number of rows and columns\n",
        "df.shape"
      ],
      "id": "ksuJnVUJsnKt",
      "execution_count": 4,
      "outputs": [
        {
          "output_type": "execute_result",
          "data": {
            "text/plain": [
              "(7198, 22)"
            ]
          },
          "metadata": {
            "tags": []
          },
          "execution_count": 4
        }
      ]
    },
    {
      "cell_type": "code",
      "metadata": {
        "id": "b6edaaac",
        "colab": {
          "base_uri": "https://localhost:8080/",
          "height": 337
        },
        "outputId": "75185b54-f305-42d6-b3dd-afd8e799e940"
      },
      "source": [
        "# statistical Measures of the dataset\n",
        "df.describe()"
      ],
      "id": "b6edaaac",
      "execution_count": 5,
      "outputs": [
        {
          "output_type": "execute_result",
          "data": {
            "text/html": [
              "<div>\n",
              "<style scoped>\n",
              "    .dataframe tbody tr th:only-of-type {\n",
              "        vertical-align: middle;\n",
              "    }\n",
              "\n",
              "    .dataframe tbody tr th {\n",
              "        vertical-align: top;\n",
              "    }\n",
              "\n",
              "    .dataframe thead th {\n",
              "        text-align: right;\n",
              "    }\n",
              "</style>\n",
              "<table border=\"1\" class=\"dataframe\">\n",
              "  <thead>\n",
              "    <tr style=\"text-align: right;\">\n",
              "      <th></th>\n",
              "      <th>Age</th>\n",
              "      <th>Sex</th>\n",
              "      <th>On_thyroxine</th>\n",
              "      <th>Query_on_thyroxine</th>\n",
              "      <th>On_antithyroid_medication</th>\n",
              "      <th>Sick</th>\n",
              "      <th>Pregnant</th>\n",
              "      <th>Thyroid surgery</th>\n",
              "      <th>I131_treatment</th>\n",
              "      <th>Query_hypothyroid</th>\n",
              "      <th>Query_hyperthyroid</th>\n",
              "      <th>Lithium</th>\n",
              "      <th>Goiter</th>\n",
              "      <th>Tumor</th>\n",
              "      <th>Hypopituitary</th>\n",
              "      <th>Psych</th>\n",
              "      <th>TSH</th>\n",
              "      <th>T3</th>\n",
              "      <th>TT4</th>\n",
              "      <th>T4U</th>\n",
              "      <th>FTI</th>\n",
              "      <th>Class</th>\n",
              "    </tr>\n",
              "  </thead>\n",
              "  <tbody>\n",
              "    <tr>\n",
              "      <th>count</th>\n",
              "      <td>7198.000000</td>\n",
              "      <td>7198.000000</td>\n",
              "      <td>7198.000000</td>\n",
              "      <td>7198.000000</td>\n",
              "      <td>7198.000000</td>\n",
              "      <td>7198.000000</td>\n",
              "      <td>7198.000000</td>\n",
              "      <td>7198.000000</td>\n",
              "      <td>7198.000000</td>\n",
              "      <td>7198.000000</td>\n",
              "      <td>7198.000000</td>\n",
              "      <td>7198.000000</td>\n",
              "      <td>7198.000000</td>\n",
              "      <td>7198.000000</td>\n",
              "      <td>7198.000000</td>\n",
              "      <td>7198.000000</td>\n",
              "      <td>7198.000000</td>\n",
              "      <td>7198.000000</td>\n",
              "      <td>7198.000000</td>\n",
              "      <td>7198.000000</td>\n",
              "      <td>7198.000000</td>\n",
              "      <td>7198.000000</td>\n",
              "    </tr>\n",
              "    <tr>\n",
              "      <th>mean</th>\n",
              "      <td>0.520521</td>\n",
              "      <td>0.304390</td>\n",
              "      <td>0.130453</td>\n",
              "      <td>0.015421</td>\n",
              "      <td>0.012781</td>\n",
              "      <td>0.038344</td>\n",
              "      <td>0.010836</td>\n",
              "      <td>0.014032</td>\n",
              "      <td>0.016671</td>\n",
              "      <td>0.065574</td>\n",
              "      <td>0.068769</td>\n",
              "      <td>0.012642</td>\n",
              "      <td>0.008197</td>\n",
              "      <td>0.025563</td>\n",
              "      <td>0.000139</td>\n",
              "      <td>0.048902</td>\n",
              "      <td>0.004862</td>\n",
              "      <td>0.019976</td>\n",
              "      <td>0.109428</td>\n",
              "      <td>0.097836</td>\n",
              "      <td>0.113214</td>\n",
              "      <td>2.902890</td>\n",
              "    </tr>\n",
              "    <tr>\n",
              "      <th>std</th>\n",
              "      <td>0.189260</td>\n",
              "      <td>0.460181</td>\n",
              "      <td>0.336824</td>\n",
              "      <td>0.123228</td>\n",
              "      <td>0.112338</td>\n",
              "      <td>0.192039</td>\n",
              "      <td>0.103539</td>\n",
              "      <td>0.117630</td>\n",
              "      <td>0.128045</td>\n",
              "      <td>0.247553</td>\n",
              "      <td>0.253079</td>\n",
              "      <td>0.111733</td>\n",
              "      <td>0.090170</td>\n",
              "      <td>0.157837</td>\n",
              "      <td>0.011787</td>\n",
              "      <td>0.215679</td>\n",
              "      <td>0.022982</td>\n",
              "      <td>0.007539</td>\n",
              "      <td>0.035973</td>\n",
              "      <td>0.019082</td>\n",
              "      <td>0.036099</td>\n",
              "      <td>0.365817</td>\n",
              "    </tr>\n",
              "    <tr>\n",
              "      <th>min</th>\n",
              "      <td>0.010000</td>\n",
              "      <td>0.000000</td>\n",
              "      <td>0.000000</td>\n",
              "      <td>0.000000</td>\n",
              "      <td>0.000000</td>\n",
              "      <td>0.000000</td>\n",
              "      <td>0.000000</td>\n",
              "      <td>0.000000</td>\n",
              "      <td>0.000000</td>\n",
              "      <td>0.000000</td>\n",
              "      <td>0.000000</td>\n",
              "      <td>0.000000</td>\n",
              "      <td>0.000000</td>\n",
              "      <td>0.000000</td>\n",
              "      <td>0.000000</td>\n",
              "      <td>0.000000</td>\n",
              "      <td>0.000000</td>\n",
              "      <td>0.000500</td>\n",
              "      <td>0.002000</td>\n",
              "      <td>0.017000</td>\n",
              "      <td>0.002000</td>\n",
              "      <td>1.000000</td>\n",
              "    </tr>\n",
              "    <tr>\n",
              "      <th>25%</th>\n",
              "      <td>0.370000</td>\n",
              "      <td>0.000000</td>\n",
              "      <td>0.000000</td>\n",
              "      <td>0.000000</td>\n",
              "      <td>0.000000</td>\n",
              "      <td>0.000000</td>\n",
              "      <td>0.000000</td>\n",
              "      <td>0.000000</td>\n",
              "      <td>0.000000</td>\n",
              "      <td>0.000000</td>\n",
              "      <td>0.000000</td>\n",
              "      <td>0.000000</td>\n",
              "      <td>0.000000</td>\n",
              "      <td>0.000000</td>\n",
              "      <td>0.000000</td>\n",
              "      <td>0.000000</td>\n",
              "      <td>0.000710</td>\n",
              "      <td>0.017000</td>\n",
              "      <td>0.089000</td>\n",
              "      <td>0.087000</td>\n",
              "      <td>0.095000</td>\n",
              "      <td>3.000000</td>\n",
              "    </tr>\n",
              "    <tr>\n",
              "      <th>50%</th>\n",
              "      <td>0.550000</td>\n",
              "      <td>0.000000</td>\n",
              "      <td>0.000000</td>\n",
              "      <td>0.000000</td>\n",
              "      <td>0.000000</td>\n",
              "      <td>0.000000</td>\n",
              "      <td>0.000000</td>\n",
              "      <td>0.000000</td>\n",
              "      <td>0.000000</td>\n",
              "      <td>0.000000</td>\n",
              "      <td>0.000000</td>\n",
              "      <td>0.000000</td>\n",
              "      <td>0.000000</td>\n",
              "      <td>0.000000</td>\n",
              "      <td>0.000000</td>\n",
              "      <td>0.000000</td>\n",
              "      <td>0.001700</td>\n",
              "      <td>0.020100</td>\n",
              "      <td>0.107000</td>\n",
              "      <td>0.097000</td>\n",
              "      <td>0.111000</td>\n",
              "      <td>3.000000</td>\n",
              "    </tr>\n",
              "    <tr>\n",
              "      <th>75%</th>\n",
              "      <td>0.670000</td>\n",
              "      <td>1.000000</td>\n",
              "      <td>0.000000</td>\n",
              "      <td>0.000000</td>\n",
              "      <td>0.000000</td>\n",
              "      <td>0.000000</td>\n",
              "      <td>0.000000</td>\n",
              "      <td>0.000000</td>\n",
              "      <td>0.000000</td>\n",
              "      <td>0.000000</td>\n",
              "      <td>0.000000</td>\n",
              "      <td>0.000000</td>\n",
              "      <td>0.000000</td>\n",
              "      <td>0.000000</td>\n",
              "      <td>0.000000</td>\n",
              "      <td>0.000000</td>\n",
              "      <td>0.002700</td>\n",
              "      <td>0.022000</td>\n",
              "      <td>0.125000</td>\n",
              "      <td>0.104000</td>\n",
              "      <td>0.127000</td>\n",
              "      <td>3.000000</td>\n",
              "    </tr>\n",
              "    <tr>\n",
              "      <th>max</th>\n",
              "      <td>0.970000</td>\n",
              "      <td>1.000000</td>\n",
              "      <td>1.000000</td>\n",
              "      <td>1.000000</td>\n",
              "      <td>1.000000</td>\n",
              "      <td>1.000000</td>\n",
              "      <td>1.000000</td>\n",
              "      <td>1.000000</td>\n",
              "      <td>1.000000</td>\n",
              "      <td>1.000000</td>\n",
              "      <td>1.000000</td>\n",
              "      <td>1.000000</td>\n",
              "      <td>1.000000</td>\n",
              "      <td>1.000000</td>\n",
              "      <td>1.000000</td>\n",
              "      <td>1.000000</td>\n",
              "      <td>0.530000</td>\n",
              "      <td>0.180000</td>\n",
              "      <td>0.600000</td>\n",
              "      <td>0.233000</td>\n",
              "      <td>0.642000</td>\n",
              "      <td>3.000000</td>\n",
              "    </tr>\n",
              "  </tbody>\n",
              "</table>\n",
              "</div>"
            ],
            "text/plain": [
              "               Age          Sex  ...          FTI        Class\n",
              "count  7198.000000  7198.000000  ...  7198.000000  7198.000000\n",
              "mean      0.520521     0.304390  ...     0.113214     2.902890\n",
              "std       0.189260     0.460181  ...     0.036099     0.365817\n",
              "min       0.010000     0.000000  ...     0.002000     1.000000\n",
              "25%       0.370000     0.000000  ...     0.095000     3.000000\n",
              "50%       0.550000     0.000000  ...     0.111000     3.000000\n",
              "75%       0.670000     1.000000  ...     0.127000     3.000000\n",
              "max       0.970000     1.000000  ...     0.642000     3.000000\n",
              "\n",
              "[8 rows x 22 columns]"
            ]
          },
          "metadata": {
            "tags": []
          },
          "execution_count": 5
        }
      ]
    },
    {
      "cell_type": "code",
      "metadata": {
        "id": "e456829e",
        "colab": {
          "base_uri": "https://localhost:8080/"
        },
        "outputId": "d2ae8910-268a-4cfe-e7ae-466edfe26200"
      },
      "source": [
        "# Some Informations about the dataset columns\n",
        "df.info()"
      ],
      "id": "e456829e",
      "execution_count": 6,
      "outputs": [
        {
          "output_type": "stream",
          "text": [
            "<class 'pandas.core.frame.DataFrame'>\n",
            "RangeIndex: 7198 entries, 0 to 7197\n",
            "Data columns (total 22 columns):\n",
            " #   Column                     Non-Null Count  Dtype  \n",
            "---  ------                     --------------  -----  \n",
            " 0   Age                        7198 non-null   float64\n",
            " 1   Sex                        7198 non-null   int64  \n",
            " 2   On_thyroxine               7198 non-null   int64  \n",
            " 3   Query_on_thyroxine         7198 non-null   int64  \n",
            " 4   On_antithyroid_medication  7198 non-null   int64  \n",
            " 5   Sick                       7198 non-null   int64  \n",
            " 6   Pregnant                   7198 non-null   int64  \n",
            " 7   Thyroid surgery            7198 non-null   int64  \n",
            " 8   I131_treatment             7198 non-null   int64  \n",
            " 9   Query_hypothyroid          7198 non-null   int64  \n",
            " 10  Query_hyperthyroid         7198 non-null   int64  \n",
            " 11  Lithium                    7198 non-null   int64  \n",
            " 12  Goiter                     7198 non-null   int64  \n",
            " 13  Tumor                      7198 non-null   int64  \n",
            " 14  Hypopituitary              7198 non-null   int64  \n",
            " 15  Psych                      7198 non-null   int64  \n",
            " 16  TSH                        7198 non-null   float64\n",
            " 17  T3                         7198 non-null   float64\n",
            " 18  TT4                        7198 non-null   float64\n",
            " 19  T4U                        7198 non-null   float64\n",
            " 20  FTI                        7198 non-null   float64\n",
            " 21  Class                      7198 non-null   int64  \n",
            "dtypes: float64(6), int64(16)\n",
            "memory usage: 1.2 MB\n"
          ],
          "name": "stdout"
        }
      ]
    },
    {
      "cell_type": "code",
      "metadata": {
        "id": "31c3f4c9",
        "colab": {
          "base_uri": "https://localhost:8080/"
        },
        "outputId": "cbae15f1-e453-4a7a-84c8-f8e824233f46"
      },
      "source": [
        "df.columns"
      ],
      "id": "31c3f4c9",
      "execution_count": 7,
      "outputs": [
        {
          "output_type": "execute_result",
          "data": {
            "text/plain": [
              "Index(['Age', 'Sex', 'On_thyroxine', 'Query_on_thyroxine',\n",
              "       'On_antithyroid_medication', 'Sick', 'Pregnant', 'Thyroid surgery',\n",
              "       'I131_treatment', 'Query_hypothyroid', 'Query_hyperthyroid', 'Lithium',\n",
              "       'Goiter', 'Tumor', 'Hypopituitary', 'Psych', 'TSH', 'T3', 'TT4', 'T4U',\n",
              "       'FTI', 'Class'],\n",
              "      dtype='object')"
            ]
          },
          "metadata": {
            "tags": []
          },
          "execution_count": 7
        }
      ]
    },
    {
      "cell_type": "code",
      "metadata": {
        "colab": {
          "base_uri": "https://localhost:8080/"
        },
        "id": "VeyliVWNFiDg",
        "outputId": "3fc855bd-ce1e-4b91-bcee-db4a20dd60bc"
      },
      "source": [
        "df['Class'].value_counts()"
      ],
      "id": "VeyliVWNFiDg",
      "execution_count": 8,
      "outputs": [
        {
          "output_type": "execute_result",
          "data": {
            "text/plain": [
              "3    6665\n",
              "2     367\n",
              "1     166\n",
              "Name: Class, dtype: int64"
            ]
          },
          "metadata": {
            "tags": []
          },
          "execution_count": 8
        }
      ]
    },
    {
      "cell_type": "markdown",
      "metadata": {
        "id": "qkJd23PUtz7z"
      },
      "source": [
        "3 classes in target variable\n",
        "* 3 - Hypothyroidism\n",
        "* 2 - Hyperthroidism\n",
        "* 1 - Normal"
      ],
      "id": "qkJd23PUtz7z"
    },
    {
      "cell_type": "markdown",
      "metadata": {
        "id": "waHI7gOk3irK"
      },
      "source": [
        "## Data Inspecting and Cleaning"
      ],
      "id": "waHI7gOk3irK"
    },
    {
      "cell_type": "code",
      "metadata": {
        "id": "bcd7f9bc",
        "colab": {
          "base_uri": "https://localhost:8080/"
        },
        "outputId": "3cd13ab4-875d-4181-b1a0-86fe8d0c34f9"
      },
      "source": [
        "# checking for missing values\n",
        "df.isnull().sum()"
      ],
      "id": "bcd7f9bc",
      "execution_count": 9,
      "outputs": [
        {
          "output_type": "execute_result",
          "data": {
            "text/plain": [
              "Age                          0\n",
              "Sex                          0\n",
              "On_thyroxine                 0\n",
              "Query_on_thyroxine           0\n",
              "On_antithyroid_medication    0\n",
              "Sick                         0\n",
              "Pregnant                     0\n",
              "Thyroid surgery              0\n",
              "I131_treatment               0\n",
              "Query_hypothyroid            0\n",
              "Query_hyperthyroid           0\n",
              "Lithium                      0\n",
              "Goiter                       0\n",
              "Tumor                        0\n",
              "Hypopituitary                0\n",
              "Psych                        0\n",
              "TSH                          0\n",
              "T3                           0\n",
              "TT4                          0\n",
              "T4U                          0\n",
              "FTI                          0\n",
              "Class                        0\n",
              "dtype: int64"
            ]
          },
          "metadata": {
            "tags": []
          },
          "execution_count": 9
        }
      ]
    },
    {
      "cell_type": "markdown",
      "metadata": {
        "id": "d581f6d0"
      },
      "source": [
        "## Exploratory Data Analysis"
      ],
      "id": "d581f6d0"
    },
    {
      "cell_type": "code",
      "metadata": {
        "colab": {
          "base_uri": "https://localhost:8080/",
          "height": 776
        },
        "id": "zYlokBjZ4L5_",
        "outputId": "c36bf2ea-9614-497d-d4d7-9138555521aa"
      },
      "source": [
        "#Checking relationship between variables\n",
        "cor=df.corr()\n",
        "cor"
      ],
      "id": "zYlokBjZ4L5_",
      "execution_count": 10,
      "outputs": [
        {
          "output_type": "execute_result",
          "data": {
            "text/html": [
              "<div>\n",
              "<style scoped>\n",
              "    .dataframe tbody tr th:only-of-type {\n",
              "        vertical-align: middle;\n",
              "    }\n",
              "\n",
              "    .dataframe tbody tr th {\n",
              "        vertical-align: top;\n",
              "    }\n",
              "\n",
              "    .dataframe thead th {\n",
              "        text-align: right;\n",
              "    }\n",
              "</style>\n",
              "<table border=\"1\" class=\"dataframe\">\n",
              "  <thead>\n",
              "    <tr style=\"text-align: right;\">\n",
              "      <th></th>\n",
              "      <th>Age</th>\n",
              "      <th>Sex</th>\n",
              "      <th>On_thyroxine</th>\n",
              "      <th>Query_on_thyroxine</th>\n",
              "      <th>On_antithyroid_medication</th>\n",
              "      <th>Sick</th>\n",
              "      <th>Pregnant</th>\n",
              "      <th>Thyroid surgery</th>\n",
              "      <th>I131_treatment</th>\n",
              "      <th>Query_hypothyroid</th>\n",
              "      <th>Query_hyperthyroid</th>\n",
              "      <th>Lithium</th>\n",
              "      <th>Goiter</th>\n",
              "      <th>Tumor</th>\n",
              "      <th>Hypopituitary</th>\n",
              "      <th>Psych</th>\n",
              "      <th>TSH</th>\n",
              "      <th>T3</th>\n",
              "      <th>TT4</th>\n",
              "      <th>T4U</th>\n",
              "      <th>FTI</th>\n",
              "      <th>Class</th>\n",
              "    </tr>\n",
              "  </thead>\n",
              "  <tbody>\n",
              "    <tr>\n",
              "      <th>Age</th>\n",
              "      <td>1.000000</td>\n",
              "      <td>-0.004575</td>\n",
              "      <td>0.005952</td>\n",
              "      <td>-0.005230</td>\n",
              "      <td>-0.050504</td>\n",
              "      <td>0.078815</td>\n",
              "      <td>-0.106789</td>\n",
              "      <td>-0.019801</td>\n",
              "      <td>0.060131</td>\n",
              "      <td>0.045090</td>\n",
              "      <td>-0.030477</td>\n",
              "      <td>-0.036450</td>\n",
              "      <td>-0.055778</td>\n",
              "      <td>-0.050448</td>\n",
              "      <td>-0.019341</td>\n",
              "      <td>-0.095050</td>\n",
              "      <td>-0.022134</td>\n",
              "      <td>-0.208658</td>\n",
              "      <td>-0.060380</td>\n",
              "      <td>-0.160996</td>\n",
              "      <td>0.029605</td>\n",
              "      <td>-0.035032</td>\n",
              "    </tr>\n",
              "    <tr>\n",
              "      <th>Sex</th>\n",
              "      <td>-0.004575</td>\n",
              "      <td>1.000000</td>\n",
              "      <td>-0.102034</td>\n",
              "      <td>0.051976</td>\n",
              "      <td>-0.029576</td>\n",
              "      <td>0.007843</td>\n",
              "      <td>-0.069237</td>\n",
              "      <td>-0.037844</td>\n",
              "      <td>-0.015391</td>\n",
              "      <td>-0.067903</td>\n",
              "      <td>-0.068808</td>\n",
              "      <td>0.033240</td>\n",
              "      <td>-0.003211</td>\n",
              "      <td>-0.072708</td>\n",
              "      <td>0.017819</td>\n",
              "      <td>0.108993</td>\n",
              "      <td>-0.043567</td>\n",
              "      <td>-0.045058</td>\n",
              "      <td>-0.151049</td>\n",
              "      <td>-0.220899</td>\n",
              "      <td>-0.026910</td>\n",
              "      <td>0.052634</td>\n",
              "    </tr>\n",
              "    <tr>\n",
              "      <th>On_thyroxine</th>\n",
              "      <td>0.005952</td>\n",
              "      <td>-0.102034</td>\n",
              "      <td>1.000000</td>\n",
              "      <td>-0.004955</td>\n",
              "      <td>-0.003678</td>\n",
              "      <td>-0.049417</td>\n",
              "      <td>-0.000699</td>\n",
              "      <td>0.020425</td>\n",
              "      <td>0.071990</td>\n",
              "      <td>0.112359</td>\n",
              "      <td>-0.017236</td>\n",
              "      <td>-0.006909</td>\n",
              "      <td>0.001387</td>\n",
              "      <td>-0.018304</td>\n",
              "      <td>-0.004566</td>\n",
              "      <td>-0.064876</td>\n",
              "      <td>0.013457</td>\n",
              "      <td>-0.009219</td>\n",
              "      <td>0.200367</td>\n",
              "      <td>0.036998</td>\n",
              "      <td>0.176827</td>\n",
              "      <td>0.064487</td>\n",
              "    </tr>\n",
              "    <tr>\n",
              "      <th>Query_on_thyroxine</th>\n",
              "      <td>-0.005230</td>\n",
              "      <td>0.051976</td>\n",
              "      <td>-0.004955</td>\n",
              "      <td>1.000000</td>\n",
              "      <td>-0.014240</td>\n",
              "      <td>-0.001504</td>\n",
              "      <td>0.030461</td>\n",
              "      <td>-0.005344</td>\n",
              "      <td>-0.016295</td>\n",
              "      <td>-0.019489</td>\n",
              "      <td>-0.025099</td>\n",
              "      <td>-0.014161</td>\n",
              "      <td>0.001127</td>\n",
              "      <td>-0.005983</td>\n",
              "      <td>0.094188</td>\n",
              "      <td>-0.028378</td>\n",
              "      <td>-0.014755</td>\n",
              "      <td>-0.009717</td>\n",
              "      <td>-0.010957</td>\n",
              "      <td>-0.024625</td>\n",
              "      <td>0.006946</td>\n",
              "      <td>0.017813</td>\n",
              "    </tr>\n",
              "    <tr>\n",
              "      <th>On_antithyroid_medication</th>\n",
              "      <td>-0.050504</td>\n",
              "      <td>-0.029576</td>\n",
              "      <td>-0.003678</td>\n",
              "      <td>-0.014240</td>\n",
              "      <td>1.000000</td>\n",
              "      <td>-0.022721</td>\n",
              "      <td>0.035874</td>\n",
              "      <td>-0.013574</td>\n",
              "      <td>0.014163</td>\n",
              "      <td>-0.025146</td>\n",
              "      <td>0.101036</td>\n",
              "      <td>-0.012875</td>\n",
              "      <td>-0.010344</td>\n",
              "      <td>-0.018429</td>\n",
              "      <td>-0.001341</td>\n",
              "      <td>-0.025801</td>\n",
              "      <td>-0.010894</td>\n",
              "      <td>0.097592</td>\n",
              "      <td>0.017793</td>\n",
              "      <td>0.049205</td>\n",
              "      <td>-0.010661</td>\n",
              "      <td>0.013302</td>\n",
              "    </tr>\n",
              "    <tr>\n",
              "      <th>Sick</th>\n",
              "      <td>0.078815</td>\n",
              "      <td>0.007843</td>\n",
              "      <td>-0.049417</td>\n",
              "      <td>-0.001504</td>\n",
              "      <td>-0.022721</td>\n",
              "      <td>1.000000</td>\n",
              "      <td>-0.020900</td>\n",
              "      <td>-0.005368</td>\n",
              "      <td>-0.026000</td>\n",
              "      <td>0.014326</td>\n",
              "      <td>-0.022815</td>\n",
              "      <td>-0.009644</td>\n",
              "      <td>-0.018153</td>\n",
              "      <td>-0.004838</td>\n",
              "      <td>-0.002354</td>\n",
              "      <td>-0.031860</td>\n",
              "      <td>-0.020259</td>\n",
              "      <td>-0.059564</td>\n",
              "      <td>-0.031698</td>\n",
              "      <td>-0.020953</td>\n",
              "      <td>-0.025290</td>\n",
              "      <td>0.017410</td>\n",
              "    </tr>\n",
              "    <tr>\n",
              "      <th>Pregnant</th>\n",
              "      <td>-0.106789</td>\n",
              "      <td>-0.069237</td>\n",
              "      <td>-0.000699</td>\n",
              "      <td>0.030461</td>\n",
              "      <td>0.035874</td>\n",
              "      <td>-0.020900</td>\n",
              "      <td>1.000000</td>\n",
              "      <td>-0.012486</td>\n",
              "      <td>-0.013628</td>\n",
              "      <td>-0.022306</td>\n",
              "      <td>0.088214</td>\n",
              "      <td>-0.011844</td>\n",
              "      <td>0.035133</td>\n",
              "      <td>0.102079</td>\n",
              "      <td>-0.001234</td>\n",
              "      <td>-0.011289</td>\n",
              "      <td>-0.017496</td>\n",
              "      <td>0.129712</td>\n",
              "      <td>0.128020</td>\n",
              "      <td>0.277352</td>\n",
              "      <td>-0.023555</td>\n",
              "      <td>0.027787</td>\n",
              "    </tr>\n",
              "    <tr>\n",
              "      <th>Thyroid surgery</th>\n",
              "      <td>-0.019801</td>\n",
              "      <td>-0.037844</td>\n",
              "      <td>0.020425</td>\n",
              "      <td>-0.005344</td>\n",
              "      <td>-0.013574</td>\n",
              "      <td>-0.005368</td>\n",
              "      <td>-0.012486</td>\n",
              "      <td>1.000000</td>\n",
              "      <td>0.002917</td>\n",
              "      <td>-0.002972</td>\n",
              "      <td>0.014256</td>\n",
              "      <td>-0.013499</td>\n",
              "      <td>-0.010845</td>\n",
              "      <td>0.003130</td>\n",
              "      <td>-0.001406</td>\n",
              "      <td>-0.027051</td>\n",
              "      <td>0.017268</td>\n",
              "      <td>-0.015748</td>\n",
              "      <td>-0.020801</td>\n",
              "      <td>0.012728</td>\n",
              "      <td>-0.021267</td>\n",
              "      <td>0.005838</td>\n",
              "    </tr>\n",
              "    <tr>\n",
              "      <th>I131_treatment</th>\n",
              "      <td>0.060131</td>\n",
              "      <td>-0.015391</td>\n",
              "      <td>0.071990</td>\n",
              "      <td>-0.016295</td>\n",
              "      <td>0.014163</td>\n",
              "      <td>-0.026000</td>\n",
              "      <td>-0.013628</td>\n",
              "      <td>0.002917</td>\n",
              "      <td>1.000000</td>\n",
              "      <td>0.053176</td>\n",
              "      <td>0.050371</td>\n",
              "      <td>-0.014734</td>\n",
              "      <td>-0.011837</td>\n",
              "      <td>-0.021089</td>\n",
              "      <td>-0.001535</td>\n",
              "      <td>-0.029525</td>\n",
              "      <td>0.012943</td>\n",
              "      <td>0.006770</td>\n",
              "      <td>-0.012024</td>\n",
              "      <td>0.018239</td>\n",
              "      <td>-0.018490</td>\n",
              "      <td>-0.018827</td>\n",
              "    </tr>\n",
              "    <tr>\n",
              "      <th>Query_hypothyroid</th>\n",
              "      <td>0.045090</td>\n",
              "      <td>-0.067903</td>\n",
              "      <td>0.112359</td>\n",
              "      <td>-0.019489</td>\n",
              "      <td>-0.025146</td>\n",
              "      <td>0.014326</td>\n",
              "      <td>-0.022306</td>\n",
              "      <td>-0.002972</td>\n",
              "      <td>0.053176</td>\n",
              "      <td>1.000000</td>\n",
              "      <td>0.016725</td>\n",
              "      <td>-0.009882</td>\n",
              "      <td>-0.011633</td>\n",
              "      <td>-0.032238</td>\n",
              "      <td>-0.003123</td>\n",
              "      <td>-0.031442</td>\n",
              "      <td>0.043103</td>\n",
              "      <td>-0.055093</td>\n",
              "      <td>-0.017704</td>\n",
              "      <td>0.008519</td>\n",
              "      <td>-0.023181</td>\n",
              "      <td>-0.081571</td>\n",
              "    </tr>\n",
              "    <tr>\n",
              "      <th>Query_hyperthyroid</th>\n",
              "      <td>-0.030477</td>\n",
              "      <td>-0.068808</td>\n",
              "      <td>-0.017236</td>\n",
              "      <td>-0.025099</td>\n",
              "      <td>0.101036</td>\n",
              "      <td>-0.022815</td>\n",
              "      <td>0.088214</td>\n",
              "      <td>0.014256</td>\n",
              "      <td>0.050371</td>\n",
              "      <td>0.016725</td>\n",
              "      <td>1.000000</td>\n",
              "      <td>-0.020923</td>\n",
              "      <td>-0.024704</td>\n",
              "      <td>0.022076</td>\n",
              "      <td>-0.003203</td>\n",
              "      <td>-0.059074</td>\n",
              "      <td>-0.016551</td>\n",
              "      <td>0.146451</td>\n",
              "      <td>0.104397</td>\n",
              "      <td>0.056347</td>\n",
              "      <td>0.083172</td>\n",
              "      <td>0.012111</td>\n",
              "    </tr>\n",
              "    <tr>\n",
              "      <th>Lithium</th>\n",
              "      <td>-0.036450</td>\n",
              "      <td>0.033240</td>\n",
              "      <td>-0.006909</td>\n",
              "      <td>-0.014161</td>\n",
              "      <td>-0.012875</td>\n",
              "      <td>-0.009644</td>\n",
              "      <td>-0.011844</td>\n",
              "      <td>-0.013499</td>\n",
              "      <td>-0.014734</td>\n",
              "      <td>-0.009882</td>\n",
              "      <td>-0.020923</td>\n",
              "      <td>1.000000</td>\n",
              "      <td>-0.010287</td>\n",
              "      <td>-0.018328</td>\n",
              "      <td>-0.001334</td>\n",
              "      <td>0.066594</td>\n",
              "      <td>-0.010693</td>\n",
              "      <td>0.008553</td>\n",
              "      <td>-0.038302</td>\n",
              "      <td>0.001366</td>\n",
              "      <td>-0.040654</td>\n",
              "      <td>0.009644</td>\n",
              "    </tr>\n",
              "    <tr>\n",
              "      <th>Goiter</th>\n",
              "      <td>-0.055778</td>\n",
              "      <td>-0.003211</td>\n",
              "      <td>0.001387</td>\n",
              "      <td>0.001127</td>\n",
              "      <td>-0.010344</td>\n",
              "      <td>-0.018153</td>\n",
              "      <td>0.035133</td>\n",
              "      <td>-0.010845</td>\n",
              "      <td>-0.011837</td>\n",
              "      <td>-0.011633</td>\n",
              "      <td>-0.024704</td>\n",
              "      <td>-0.010287</td>\n",
              "      <td>1.000000</td>\n",
              "      <td>0.004801</td>\n",
              "      <td>-0.001072</td>\n",
              "      <td>-0.013469</td>\n",
              "      <td>-0.012739</td>\n",
              "      <td>0.009462</td>\n",
              "      <td>-0.003673</td>\n",
              "      <td>0.034134</td>\n",
              "      <td>-0.023289</td>\n",
              "      <td>0.024135</td>\n",
              "    </tr>\n",
              "    <tr>\n",
              "      <th>Tumor</th>\n",
              "      <td>-0.050448</td>\n",
              "      <td>-0.072708</td>\n",
              "      <td>-0.018304</td>\n",
              "      <td>-0.005983</td>\n",
              "      <td>-0.018429</td>\n",
              "      <td>-0.004838</td>\n",
              "      <td>0.102079</td>\n",
              "      <td>0.003130</td>\n",
              "      <td>-0.021089</td>\n",
              "      <td>-0.032238</td>\n",
              "      <td>0.022076</td>\n",
              "      <td>-0.018328</td>\n",
              "      <td>0.004801</td>\n",
              "      <td>1.000000</td>\n",
              "      <td>-0.001909</td>\n",
              "      <td>-0.028563</td>\n",
              "      <td>-0.015691</td>\n",
              "      <td>0.082440</td>\n",
              "      <td>0.048082</td>\n",
              "      <td>0.070272</td>\n",
              "      <td>0.010081</td>\n",
              "      <td>0.004496</td>\n",
              "    </tr>\n",
              "    <tr>\n",
              "      <th>Hypopituitary</th>\n",
              "      <td>-0.019341</td>\n",
              "      <td>0.017819</td>\n",
              "      <td>-0.004566</td>\n",
              "      <td>0.094188</td>\n",
              "      <td>-0.001341</td>\n",
              "      <td>-0.002354</td>\n",
              "      <td>-0.001234</td>\n",
              "      <td>-0.001406</td>\n",
              "      <td>-0.001535</td>\n",
              "      <td>-0.003123</td>\n",
              "      <td>-0.003203</td>\n",
              "      <td>-0.001334</td>\n",
              "      <td>-0.001072</td>\n",
              "      <td>-0.001909</td>\n",
              "      <td>1.000000</td>\n",
              "      <td>-0.002673</td>\n",
              "      <td>-0.002366</td>\n",
              "      <td>-0.010908</td>\n",
              "      <td>-0.018164</td>\n",
              "      <td>0.005662</td>\n",
              "      <td>-0.020316</td>\n",
              "      <td>0.003129</td>\n",
              "    </tr>\n",
              "    <tr>\n",
              "      <th>Psych</th>\n",
              "      <td>-0.095050</td>\n",
              "      <td>0.108993</td>\n",
              "      <td>-0.064876</td>\n",
              "      <td>-0.028378</td>\n",
              "      <td>-0.025801</td>\n",
              "      <td>-0.031860</td>\n",
              "      <td>-0.011289</td>\n",
              "      <td>-0.027051</td>\n",
              "      <td>-0.029525</td>\n",
              "      <td>-0.031442</td>\n",
              "      <td>-0.059074</td>\n",
              "      <td>0.066594</td>\n",
              "      <td>-0.013469</td>\n",
              "      <td>-0.028563</td>\n",
              "      <td>-0.002673</td>\n",
              "      <td>1.000000</td>\n",
              "      <td>-0.026748</td>\n",
              "      <td>0.027918</td>\n",
              "      <td>-0.009340</td>\n",
              "      <td>-0.021914</td>\n",
              "      <td>0.001196</td>\n",
              "      <td>0.039065</td>\n",
              "    </tr>\n",
              "    <tr>\n",
              "      <th>TSH</th>\n",
              "      <td>-0.022134</td>\n",
              "      <td>-0.043567</td>\n",
              "      <td>0.013457</td>\n",
              "      <td>-0.014755</td>\n",
              "      <td>-0.010894</td>\n",
              "      <td>-0.020259</td>\n",
              "      <td>-0.017496</td>\n",
              "      <td>0.017268</td>\n",
              "      <td>0.012943</td>\n",
              "      <td>0.043103</td>\n",
              "      <td>-0.016551</td>\n",
              "      <td>-0.010693</td>\n",
              "      <td>-0.012739</td>\n",
              "      <td>-0.015691</td>\n",
              "      <td>-0.002366</td>\n",
              "      <td>-0.026748</td>\n",
              "      <td>1.000000</td>\n",
              "      <td>-0.156949</td>\n",
              "      <td>-0.256885</td>\n",
              "      <td>0.070150</td>\n",
              "      <td>-0.277076</td>\n",
              "      <td>-0.555192</td>\n",
              "    </tr>\n",
              "    <tr>\n",
              "      <th>T3</th>\n",
              "      <td>-0.208658</td>\n",
              "      <td>-0.045058</td>\n",
              "      <td>-0.009219</td>\n",
              "      <td>-0.009717</td>\n",
              "      <td>0.097592</td>\n",
              "      <td>-0.059564</td>\n",
              "      <td>0.129712</td>\n",
              "      <td>-0.015748</td>\n",
              "      <td>0.006770</td>\n",
              "      <td>-0.055093</td>\n",
              "      <td>0.146451</td>\n",
              "      <td>0.008553</td>\n",
              "      <td>0.009462</td>\n",
              "      <td>0.082440</td>\n",
              "      <td>-0.010908</td>\n",
              "      <td>0.027918</td>\n",
              "      <td>-0.156949</td>\n",
              "      <td>1.000000</td>\n",
              "      <td>0.481203</td>\n",
              "      <td>0.288914</td>\n",
              "      <td>0.349964</td>\n",
              "      <td>0.223539</td>\n",
              "    </tr>\n",
              "    <tr>\n",
              "      <th>TT4</th>\n",
              "      <td>-0.060380</td>\n",
              "      <td>-0.151049</td>\n",
              "      <td>0.200367</td>\n",
              "      <td>-0.010957</td>\n",
              "      <td>0.017793</td>\n",
              "      <td>-0.031698</td>\n",
              "      <td>0.128020</td>\n",
              "      <td>-0.020801</td>\n",
              "      <td>-0.012024</td>\n",
              "      <td>-0.017704</td>\n",
              "      <td>0.104397</td>\n",
              "      <td>-0.038302</td>\n",
              "      <td>-0.003673</td>\n",
              "      <td>0.048082</td>\n",
              "      <td>-0.018164</td>\n",
              "      <td>-0.009340</td>\n",
              "      <td>-0.256885</td>\n",
              "      <td>0.481203</td>\n",
              "      <td>1.000000</td>\n",
              "      <td>0.394122</td>\n",
              "      <td>0.787561</td>\n",
              "      <td>0.329054</td>\n",
              "    </tr>\n",
              "    <tr>\n",
              "      <th>T4U</th>\n",
              "      <td>-0.160996</td>\n",
              "      <td>-0.220899</td>\n",
              "      <td>0.036998</td>\n",
              "      <td>-0.024625</td>\n",
              "      <td>0.049205</td>\n",
              "      <td>-0.020953</td>\n",
              "      <td>0.277352</td>\n",
              "      <td>0.012728</td>\n",
              "      <td>0.018239</td>\n",
              "      <td>0.008519</td>\n",
              "      <td>0.056347</td>\n",
              "      <td>0.001366</td>\n",
              "      <td>0.034134</td>\n",
              "      <td>0.070272</td>\n",
              "      <td>0.005662</td>\n",
              "      <td>-0.021914</td>\n",
              "      <td>0.070150</td>\n",
              "      <td>0.288914</td>\n",
              "      <td>0.394122</td>\n",
              "      <td>1.000000</td>\n",
              "      <td>-0.207068</td>\n",
              "      <td>-0.034713</td>\n",
              "    </tr>\n",
              "    <tr>\n",
              "      <th>FTI</th>\n",
              "      <td>0.029605</td>\n",
              "      <td>-0.026910</td>\n",
              "      <td>0.176827</td>\n",
              "      <td>0.006946</td>\n",
              "      <td>-0.010661</td>\n",
              "      <td>-0.025290</td>\n",
              "      <td>-0.023555</td>\n",
              "      <td>-0.021267</td>\n",
              "      <td>-0.018490</td>\n",
              "      <td>-0.023181</td>\n",
              "      <td>0.083172</td>\n",
              "      <td>-0.040654</td>\n",
              "      <td>-0.023289</td>\n",
              "      <td>0.010081</td>\n",
              "      <td>-0.020316</td>\n",
              "      <td>0.001196</td>\n",
              "      <td>-0.277076</td>\n",
              "      <td>0.349964</td>\n",
              "      <td>0.787561</td>\n",
              "      <td>-0.207068</td>\n",
              "      <td>1.000000</td>\n",
              "      <td>0.345524</td>\n",
              "    </tr>\n",
              "    <tr>\n",
              "      <th>Class</th>\n",
              "      <td>-0.035032</td>\n",
              "      <td>0.052634</td>\n",
              "      <td>0.064487</td>\n",
              "      <td>0.017813</td>\n",
              "      <td>0.013302</td>\n",
              "      <td>0.017410</td>\n",
              "      <td>0.027787</td>\n",
              "      <td>0.005838</td>\n",
              "      <td>-0.018827</td>\n",
              "      <td>-0.081571</td>\n",
              "      <td>0.012111</td>\n",
              "      <td>0.009644</td>\n",
              "      <td>0.024135</td>\n",
              "      <td>0.004496</td>\n",
              "      <td>0.003129</td>\n",
              "      <td>0.039065</td>\n",
              "      <td>-0.555192</td>\n",
              "      <td>0.223539</td>\n",
              "      <td>0.329054</td>\n",
              "      <td>-0.034713</td>\n",
              "      <td>0.345524</td>\n",
              "      <td>1.000000</td>\n",
              "    </tr>\n",
              "  </tbody>\n",
              "</table>\n",
              "</div>"
            ],
            "text/plain": [
              "                                Age       Sex  ...       FTI     Class\n",
              "Age                        1.000000 -0.004575  ...  0.029605 -0.035032\n",
              "Sex                       -0.004575  1.000000  ... -0.026910  0.052634\n",
              "On_thyroxine               0.005952 -0.102034  ...  0.176827  0.064487\n",
              "Query_on_thyroxine        -0.005230  0.051976  ...  0.006946  0.017813\n",
              "On_antithyroid_medication -0.050504 -0.029576  ... -0.010661  0.013302\n",
              "Sick                       0.078815  0.007843  ... -0.025290  0.017410\n",
              "Pregnant                  -0.106789 -0.069237  ... -0.023555  0.027787\n",
              "Thyroid surgery           -0.019801 -0.037844  ... -0.021267  0.005838\n",
              "I131_treatment             0.060131 -0.015391  ... -0.018490 -0.018827\n",
              "Query_hypothyroid          0.045090 -0.067903  ... -0.023181 -0.081571\n",
              "Query_hyperthyroid        -0.030477 -0.068808  ...  0.083172  0.012111\n",
              "Lithium                   -0.036450  0.033240  ... -0.040654  0.009644\n",
              "Goiter                    -0.055778 -0.003211  ... -0.023289  0.024135\n",
              "Tumor                     -0.050448 -0.072708  ...  0.010081  0.004496\n",
              "Hypopituitary             -0.019341  0.017819  ... -0.020316  0.003129\n",
              "Psych                     -0.095050  0.108993  ...  0.001196  0.039065\n",
              "TSH                       -0.022134 -0.043567  ... -0.277076 -0.555192\n",
              "T3                        -0.208658 -0.045058  ...  0.349964  0.223539\n",
              "TT4                       -0.060380 -0.151049  ...  0.787561  0.329054\n",
              "T4U                       -0.160996 -0.220899  ... -0.207068 -0.034713\n",
              "FTI                        0.029605 -0.026910  ...  1.000000  0.345524\n",
              "Class                     -0.035032  0.052634  ...  0.345524  1.000000\n",
              "\n",
              "[22 rows x 22 columns]"
            ]
          },
          "metadata": {
            "tags": []
          },
          "execution_count": 10
        }
      ]
    },
    {
      "cell_type": "code",
      "metadata": {
        "colab": {
          "base_uri": "https://localhost:8080/",
          "height": 565
        },
        "id": "jhKRWBlT4gV1",
        "outputId": "c32bd77b-f547-45c6-f3e8-9e3a181639c9"
      },
      "source": [
        "# Heatmap\n",
        "plt.figure(figsize=(20,10), facecolor='w')\n",
        "sns.heatmap(cor,xticklabels=cor.columns,yticklabels=cor.columns,annot=True)\n",
        "plt.title(\"Correlation among all the Variables of the Dataset\", size=20)"
      ],
      "id": "jhKRWBlT4gV1",
      "execution_count": 11,
      "outputs": [
        {
          "output_type": "execute_result",
          "data": {
            "text/plain": [
              "Text(0.5, 1.0, 'Correlation among all the Variables of the Dataset')"
            ]
          },
          "metadata": {
            "tags": []
          },
          "execution_count": 11
        },
        {
          "output_type": "display_data",
          "data": {
            "image/png": "[encoded data removed]",
            "text/plain": [
              "<Figure size 1440x720 with 2 Axes>"
            ]
          },
          "metadata": {
            "tags": []
          }
        }
      ]
    },
    {
      "cell_type": "code",
      "metadata": {
        "id": "940cdb0f",
        "colab": {
          "base_uri": "https://localhost:8080/",
          "height": 295
        },
        "outputId": "76e7e40c-b463-4a9e-f168-9167412f254f"
      },
      "source": [
        "x_plot = ['Normal', 'Hypothyroidism', 'Hyperhyroidism']\n",
        "y_plot = [166, 367, 6665]\n",
        "plt.bar(x_plot, y_plot, data=df, color='blue')\n",
        "plt.xlabel('Classes')\n",
        "plt.ylabel('value count')\n",
        "plt.title('Nuber of data present with respect to classes')\n",
        "plt.show()"
      ],
      "id": "940cdb0f",
      "execution_count": 12,
      "outputs": [
        {
          "output_type": "display_data",
          "data": {
            "image/png": "[encoded data removed]",
            "text/plain": [
              "<Figure size 432x288 with 1 Axes>"
            ]
          },
          "metadata": {
            "tags": [],
            "needs_background": "light"
          }
        }
      ]
    },
    {
      "cell_type": "code",
      "metadata": {
        "id": "twm5AwE7wGzw",
        "outputId": "268aef93-c58a-4e36-e331-aba3b91bdbbb",
        "colab": {
          "base_uri": "https://localhost:8080/",
          "height": 297
        }
      },
      "source": [
        "sns.countplot(x='Sex', data=df)"
      ],
      "id": "twm5AwE7wGzw",
      "execution_count": 13,
      "outputs": [
        {
          "output_type": "execute_result",
          "data": {
            "text/plain": [
              "<matplotlib.axes._subplots.AxesSubplot at 0x7fd35f8dc650>"
            ]
          },
          "metadata": {
            "tags": []
          },
          "execution_count": 13
        },
        {
          "output_type": "display_data",
          "data": {
            "image/png": "[encoded data removed]",
            "text/plain": [
              "<Figure size 432x288 with 1 Axes>"
            ]
          },
          "metadata": {
            "tags": [],
            "needs_background": "light"
          }
        }
      ]
    },
    {
      "cell_type": "code",
      "metadata": {
        "id": "fahGbsp4zWW2",
        "outputId": "7d93199a-f229-43df-bd3b-e0a13500e381",
        "colab": {
          "base_uri": "https://localhost:8080/",
          "height": 425
        }
      },
      "source": [
        "sns.set(rc={'figure.figsize':(9.7,6.27)})\n",
        "sns.countplot(x='On_thyroxine', data=df)"
      ],
      "id": "fahGbsp4zWW2",
      "execution_count": 14,
      "outputs": [
        {
          "output_type": "execute_result",
          "data": {
            "text/plain": [
              "<matplotlib.axes._subplots.AxesSubplot at 0x7fd35e812a90>"
            ]
          },
          "metadata": {
            "tags": []
          },
          "execution_count": 14
        },
        {
          "output_type": "display_data",
          "data": {
            "image/png": "[encoded data removed]",
            "text/plain": [
              "<Figure size 698.4x451.44 with 1 Axes>"
            ]
          },
          "metadata": {
            "tags": []
          }
        }
      ]
    },
    {
      "cell_type": "code",
      "metadata": {
        "id": "UzWs6jmhzbSm",
        "outputId": "c8b0909b-2b7f-43a8-8770-24e64e90cc67",
        "colab": {
          "base_uri": "https://localhost:8080/",
          "height": 425
        }
      },
      "source": [
        "sns.countplot(x='Query_on_thyroxine', data=df)"
      ],
      "id": "UzWs6jmhzbSm",
      "execution_count": 15,
      "outputs": [
        {
          "output_type": "execute_result",
          "data": {
            "text/plain": [
              "<matplotlib.axes._subplots.AxesSubplot at 0x7fd35e7f1c10>"
            ]
          },
          "metadata": {
            "tags": []
          },
          "execution_count": 15
        },
        {
          "output_type": "display_data",
          "data": {
            "image/png": "[encoded data removed]",
            "text/plain": [
              "<Figure size 698.4x451.44 with 1 Axes>"
            ]
          },
          "metadata": {
            "tags": []
          }
        }
      ]
    },
    {
      "cell_type": "code",
      "metadata": {
        "id": "D1CF6Hdt0MxQ",
        "outputId": "ff6d8a71-6559-491c-830c-5e2230edc139",
        "colab": {
          "base_uri": "https://localhost:8080/",
          "height": 425
        }
      },
      "source": [
        "sns.countplot(x='On_antithyroid_medication', data=df)"
      ],
      "id": "D1CF6Hdt0MxQ",
      "execution_count": 16,
      "outputs": [
        {
          "output_type": "execute_result",
          "data": {
            "text/plain": [
              "<matplotlib.axes._subplots.AxesSubplot at 0x7fd35e7b2650>"
            ]
          },
          "metadata": {
            "tags": []
          },
          "execution_count": 16
        },
        {
          "output_type": "display_data",
          "data": {
            "image/png": "[encoded data removed]",
            "text/plain": [
              "<Figure size 698.4x451.44 with 1 Axes>"
            ]
          },
          "metadata": {
            "tags": []
          }
        }
      ]
    },
    {
      "cell_type": "code",
      "metadata": {
        "id": "YBZoCPZp0UtF",
        "outputId": "d72e2200-596f-4904-ac9b-14cf11fca0d0",
        "colab": {
          "base_uri": "https://localhost:8080/",
          "height": 425
        }
      },
      "source": [
        "sns.countplot(x='Sick', data=df)"
      ],
      "id": "YBZoCPZp0UtF",
      "execution_count": 17,
      "outputs": [
        {
          "output_type": "execute_result",
          "data": {
            "text/plain": [
              "<matplotlib.axes._subplots.AxesSubplot at 0x7fd35e720a90>"
            ]
          },
          "metadata": {
            "tags": []
          },
          "execution_count": 17
        },
        {
          "output_type": "display_data",
          "data": {
            "image/png": "[encoded data removed]",
            "text/plain": [
              "<Figure size 698.4x451.44 with 1 Axes>"
            ]
          },
          "metadata": {
            "tags": []
          }
        }
      ]
    },
    {
      "cell_type": "code",
      "metadata": {
        "colab": {
          "base_uri": "https://localhost:8080/",
          "height": 425
        },
        "id": "XCrxxlWE0eGt",
        "outputId": "2f77eb54-b6e6-48de-adc4-11bf36cfcd61"
      },
      "source": [
        "sns.countplot(x='Pregnant', data=df)"
      ],
      "id": "XCrxxlWE0eGt",
      "execution_count": 18,
      "outputs": [
        {
          "output_type": "execute_result",
          "data": {
            "text/plain": [
              "<matplotlib.axes._subplots.AxesSubplot at 0x7fd35e704e10>"
            ]
          },
          "metadata": {
            "tags": []
          },
          "execution_count": 18
        },
        {
          "output_type": "display_data",
          "data": {
            "image/png": "[encoded data removed]",
            "text/plain": [
              "<Figure size 698.4x451.44 with 1 Axes>"
            ]
          },
          "metadata": {
            "tags": []
          }
        }
      ]
    },
    {
      "cell_type": "code",
      "metadata": {
        "id": "aTtUi0cw0ih1",
        "outputId": "37f32635-aa17-4742-9279-0cd5416d6e98",
        "colab": {
          "base_uri": "https://localhost:8080/",
          "height": 425
        }
      },
      "source": [
        "sns.countplot(x='Thyroid surgery', data=df)"
      ],
      "id": "aTtUi0cw0ih1",
      "execution_count": 19,
      "outputs": [
        {
          "output_type": "execute_result",
          "data": {
            "text/plain": [
              "<matplotlib.axes._subplots.AxesSubplot at 0x7fd35e6c17d0>"
            ]
          },
          "metadata": {
            "tags": []
          },
          "execution_count": 19
        },
        {
          "output_type": "display_data",
          "data": {
            "image/png": "[encoded data removed]",
            "text/plain": [
              "<Figure size 698.4x451.44 with 1 Axes>"
            ]
          },
          "metadata": {
            "tags": []
          }
        }
      ]
    },
    {
      "cell_type": "code",
      "metadata": {
        "id": "FN8gR2Syx4_G",
        "outputId": "a527bc4b-50ea-47ef-8066-5e5370554266",
        "colab": {
          "base_uri": "https://localhost:8080/",
          "height": 994
        }
      },
      "source": [
        "def show_hist(x):\n",
        "    plt.rcParams['figure.figsize']=15,18\n",
        "    x.hist()\n",
        "    \n",
        "show_hist(df)"
      ],
      "id": "FN8gR2Syx4_G",
      "execution_count": 20,
      "outputs": [
        {
          "output_type": "display_data",
          "data": {
            "image/png": "[encoded data removed]",
            "text/plain": [
              "<Figure size 1080x1296 with 25 Axes>"
            ]
          },
          "metadata": {
            "tags": []
          }
        }
      ]
    },
    {
      "cell_type": "markdown",
      "metadata": {
        "id": "CTVlk4Kr0-Qo"
      },
      "source": [
        "## Handling Categorical Data"
      ],
      "id": "CTVlk4Kr0-Qo"
    },
    {
      "cell_type": "code",
      "metadata": {
        "id": "giFno3WO09u-",
        "outputId": "b82ba4d1-9c91-479e-d36a-6ae7d432c22a",
        "colab": {
          "base_uri": "https://localhost:8080/"
        }
      },
      "source": [
        "df['On_thyroxine'].unique()\n"
      ],
      "id": "giFno3WO09u-",
      "execution_count": 21,
      "outputs": [
        {
          "output_type": "execute_result",
          "data": {
            "text/plain": [
              "array([0, 1])"
            ]
          },
          "metadata": {
            "tags": []
          },
          "execution_count": 21
        }
      ]
    },
    {
      "cell_type": "code",
      "metadata": {
        "id": "dfGlrH6-1lA-",
        "outputId": "f59ecba5-275d-4e5a-e670-c6b4f94de94d",
        "colab": {
          "base_uri": "https://localhost:8080/"
        }
      },
      "source": [
        "df['I131_treatment'].unique()\n"
      ],
      "id": "dfGlrH6-1lA-",
      "execution_count": 22,
      "outputs": [
        {
          "output_type": "execute_result",
          "data": {
            "text/plain": [
              "array([0, 1])"
            ]
          },
          "metadata": {
            "tags": []
          },
          "execution_count": 22
        }
      ]
    },
    {
      "cell_type": "code",
      "metadata": {
        "id": "m8u8V5Jh1u6d",
        "outputId": "8443da7d-fc37-407a-dbcd-58eb8e4405aa",
        "colab": {
          "base_uri": "https://localhost:8080/"
        }
      },
      "source": [
        "df['Hypopituitary'].unique()"
      ],
      "id": "m8u8V5Jh1u6d",
      "execution_count": 23,
      "outputs": [
        {
          "output_type": "execute_result",
          "data": {
            "text/plain": [
              "array([0, 1])"
            ]
          },
          "metadata": {
            "tags": []
          },
          "execution_count": 23
        }
      ]
    },
    {
      "cell_type": "code",
      "metadata": {
        "id": "Jwj7h7pQ1_w9",
        "outputId": "3d31cf7f-af5f-4478-c5bf-809f135f7418",
        "colab": {
          "base_uri": "https://localhost:8080/",
          "height": 243
        }
      },
      "source": [
        "df = pd.get_dummies(df,drop_first=True)\n",
        "df.head()\n"
      ],
      "id": "Jwj7h7pQ1_w9",
      "execution_count": 24,
      "outputs": [
        {
          "output_type": "execute_result",
          "data": {
            "text/html": [
              "<div>\n",
              "<style scoped>\n",
              "    .dataframe tbody tr th:only-of-type {\n",
              "        vertical-align: middle;\n",
              "    }\n",
              "\n",
              "    .dataframe tbody tr th {\n",
              "        vertical-align: top;\n",
              "    }\n",
              "\n",
              "    .dataframe thead th {\n",
              "        text-align: right;\n",
              "    }\n",
              "</style>\n",
              "<table border=\"1\" class=\"dataframe\">\n",
              "  <thead>\n",
              "    <tr style=\"text-align: right;\">\n",
              "      <th></th>\n",
              "      <th>Age</th>\n",
              "      <th>Sex</th>\n",
              "      <th>On_thyroxine</th>\n",
              "      <th>Query_on_thyroxine</th>\n",
              "      <th>On_antithyroid_medication</th>\n",
              "      <th>Sick</th>\n",
              "      <th>Pregnant</th>\n",
              "      <th>Thyroid surgery</th>\n",
              "      <th>I131_treatment</th>\n",
              "      <th>Query_hypothyroid</th>\n",
              "      <th>Query_hyperthyroid</th>\n",
              "      <th>Lithium</th>\n",
              "      <th>Goiter</th>\n",
              "      <th>Tumor</th>\n",
              "      <th>Hypopituitary</th>\n",
              "      <th>Psych</th>\n",
              "      <th>TSH</th>\n",
              "      <th>T3</th>\n",
              "      <th>TT4</th>\n",
              "      <th>T4U</th>\n",
              "      <th>FTI</th>\n",
              "      <th>Class</th>\n",
              "    </tr>\n",
              "  </thead>\n",
              "  <tbody>\n",
              "    <tr>\n",
              "      <th>0</th>\n",
              "      <td>0.24</td>\n",
              "      <td>0</td>\n",
              "      <td>0</td>\n",
              "      <td>0</td>\n",
              "      <td>0</td>\n",
              "      <td>0</td>\n",
              "      <td>0</td>\n",
              "      <td>0</td>\n",
              "      <td>0</td>\n",
              "      <td>0</td>\n",
              "      <td>0</td>\n",
              "      <td>0</td>\n",
              "      <td>0</td>\n",
              "      <td>0</td>\n",
              "      <td>0</td>\n",
              "      <td>0</td>\n",
              "      <td>0.00025</td>\n",
              "      <td>0.030</td>\n",
              "      <td>0.143</td>\n",
              "      <td>0.133</td>\n",
              "      <td>0.108</td>\n",
              "      <td>3</td>\n",
              "    </tr>\n",
              "    <tr>\n",
              "      <th>1</th>\n",
              "      <td>0.47</td>\n",
              "      <td>0</td>\n",
              "      <td>0</td>\n",
              "      <td>0</td>\n",
              "      <td>0</td>\n",
              "      <td>0</td>\n",
              "      <td>0</td>\n",
              "      <td>0</td>\n",
              "      <td>0</td>\n",
              "      <td>0</td>\n",
              "      <td>0</td>\n",
              "      <td>0</td>\n",
              "      <td>0</td>\n",
              "      <td>0</td>\n",
              "      <td>0</td>\n",
              "      <td>0</td>\n",
              "      <td>0.00190</td>\n",
              "      <td>0.024</td>\n",
              "      <td>0.102</td>\n",
              "      <td>0.131</td>\n",
              "      <td>0.078</td>\n",
              "      <td>3</td>\n",
              "    </tr>\n",
              "    <tr>\n",
              "      <th>2</th>\n",
              "      <td>0.64</td>\n",
              "      <td>1</td>\n",
              "      <td>0</td>\n",
              "      <td>0</td>\n",
              "      <td>0</td>\n",
              "      <td>0</td>\n",
              "      <td>0</td>\n",
              "      <td>0</td>\n",
              "      <td>0</td>\n",
              "      <td>0</td>\n",
              "      <td>0</td>\n",
              "      <td>0</td>\n",
              "      <td>0</td>\n",
              "      <td>0</td>\n",
              "      <td>0</td>\n",
              "      <td>0</td>\n",
              "      <td>0.00090</td>\n",
              "      <td>0.017</td>\n",
              "      <td>0.077</td>\n",
              "      <td>0.090</td>\n",
              "      <td>0.085</td>\n",
              "      <td>3</td>\n",
              "    </tr>\n",
              "    <tr>\n",
              "      <th>3</th>\n",
              "      <td>0.23</td>\n",
              "      <td>0</td>\n",
              "      <td>0</td>\n",
              "      <td>0</td>\n",
              "      <td>0</td>\n",
              "      <td>0</td>\n",
              "      <td>0</td>\n",
              "      <td>0</td>\n",
              "      <td>0</td>\n",
              "      <td>0</td>\n",
              "      <td>0</td>\n",
              "      <td>0</td>\n",
              "      <td>0</td>\n",
              "      <td>0</td>\n",
              "      <td>0</td>\n",
              "      <td>0</td>\n",
              "      <td>0.00025</td>\n",
              "      <td>0.026</td>\n",
              "      <td>0.139</td>\n",
              "      <td>0.090</td>\n",
              "      <td>0.153</td>\n",
              "      <td>3</td>\n",
              "    </tr>\n",
              "    <tr>\n",
              "      <th>4</th>\n",
              "      <td>0.69</td>\n",
              "      <td>1</td>\n",
              "      <td>0</td>\n",
              "      <td>0</td>\n",
              "      <td>0</td>\n",
              "      <td>0</td>\n",
              "      <td>0</td>\n",
              "      <td>0</td>\n",
              "      <td>0</td>\n",
              "      <td>0</td>\n",
              "      <td>0</td>\n",
              "      <td>0</td>\n",
              "      <td>0</td>\n",
              "      <td>0</td>\n",
              "      <td>0</td>\n",
              "      <td>0</td>\n",
              "      <td>0.00025</td>\n",
              "      <td>0.016</td>\n",
              "      <td>0.086</td>\n",
              "      <td>0.070</td>\n",
              "      <td>0.123</td>\n",
              "      <td>3</td>\n",
              "    </tr>\n",
              "  </tbody>\n",
              "</table>\n",
              "</div>"
            ],
            "text/plain": [
              "    Age  Sex  On_thyroxine  Query_on_thyroxine  ...    TT4    T4U    FTI  Class\n",
              "0  0.24    0             0                   0  ...  0.143  0.133  0.108      3\n",
              "1  0.47    0             0                   0  ...  0.102  0.131  0.078      3\n",
              "2  0.64    1             0                   0  ...  0.077  0.090  0.085      3\n",
              "3  0.23    0             0                   0  ...  0.139  0.090  0.153      3\n",
              "4  0.69    1             0                   0  ...  0.086  0.070  0.123      3\n",
              "\n",
              "[5 rows x 22 columns]"
            ]
          },
          "metadata": {
            "tags": []
          },
          "execution_count": 24
        }
      ]
    },
    {
      "cell_type": "code",
      "metadata": {
        "id": "US6nQ7G52D5v"
      },
      "source": [
        "clean_data=df.drop('Class',axis=1)"
      ],
      "id": "US6nQ7G52D5v",
      "execution_count": 25,
      "outputs": []
    },
    {
      "cell_type": "markdown",
      "metadata": {
        "id": "yJ-js5UA2bh8"
      },
      "source": [
        "## Checking Multicollinearity using VIF"
      ],
      "id": "yJ-js5UA2bh8"
    },
    {
      "cell_type": "code",
      "metadata": {
        "id": "hlrqMGOX2W4y",
        "outputId": "7e927e83-7674-4844-cce8-2816e88c2486",
        "colab": {
          "base_uri": "https://localhost:8080/",
          "height": 707
        }
      },
      "source": [
        "from statsmodels.stats.outliers_influence import variance_inflation_factor\n",
        "variables=clean_data\n",
        "\n",
        "vif=pd.DataFrame()\n",
        "vif[\"VIF\"]=[variance_inflation_factor(variables.values,i) for i in range(variables.shape[1])]\n",
        "vif['Features']=variables.columns\n",
        "vif"
      ],
      "id": "hlrqMGOX2W4y",
      "execution_count": 26,
      "outputs": [
        {
          "output_type": "execute_result",
          "data": {
            "text/html": [
              "<div>\n",
              "<style scoped>\n",
              "    .dataframe tbody tr th:only-of-type {\n",
              "        vertical-align: middle;\n",
              "    }\n",
              "\n",
              "    .dataframe tbody tr th {\n",
              "        vertical-align: top;\n",
              "    }\n",
              "\n",
              "    .dataframe thead th {\n",
              "        text-align: right;\n",
              "    }\n",
              "</style>\n",
              "<table border=\"1\" class=\"dataframe\">\n",
              "  <thead>\n",
              "    <tr style=\"text-align: right;\">\n",
              "      <th></th>\n",
              "      <th>VIF</th>\n",
              "      <th>Features</th>\n",
              "    </tr>\n",
              "  </thead>\n",
              "  <tbody>\n",
              "    <tr>\n",
              "      <th>0</th>\n",
              "      <td>8.761229</td>\n",
              "      <td>Age</td>\n",
              "    </tr>\n",
              "    <tr>\n",
              "      <th>1</th>\n",
              "      <td>1.536490</td>\n",
              "      <td>Sex</td>\n",
              "    </tr>\n",
              "    <tr>\n",
              "      <th>2</th>\n",
              "      <td>1.261124</td>\n",
              "      <td>On_thyroxine</td>\n",
              "    </tr>\n",
              "    <tr>\n",
              "      <th>3</th>\n",
              "      <td>1.032274</td>\n",
              "      <td>Query_on_thyroxine</td>\n",
              "    </tr>\n",
              "    <tr>\n",
              "      <th>4</th>\n",
              "      <td>1.038240</td>\n",
              "      <td>On_antithyroid_medication</td>\n",
              "    </tr>\n",
              "    <tr>\n",
              "      <th>5</th>\n",
              "      <td>1.054460</td>\n",
              "      <td>Sick</td>\n",
              "    </tr>\n",
              "    <tr>\n",
              "      <th>6</th>\n",
              "      <td>1.104453</td>\n",
              "      <td>Pregnant</td>\n",
              "    </tr>\n",
              "    <tr>\n",
              "      <th>7</th>\n",
              "      <td>1.020514</td>\n",
              "      <td>Thyroid surgery</td>\n",
              "    </tr>\n",
              "    <tr>\n",
              "      <th>8</th>\n",
              "      <td>1.035218</td>\n",
              "      <td>I131_treatment</td>\n",
              "    </tr>\n",
              "    <tr>\n",
              "      <th>9</th>\n",
              "      <td>1.099269</td>\n",
              "      <td>Query_hypothyroid</td>\n",
              "    </tr>\n",
              "    <tr>\n",
              "      <th>10</th>\n",
              "      <td>1.127497</td>\n",
              "      <td>Query_hyperthyroid</td>\n",
              "    </tr>\n",
              "    <tr>\n",
              "      <th>11</th>\n",
              "      <td>1.023250</td>\n",
              "      <td>Lithium</td>\n",
              "    </tr>\n",
              "    <tr>\n",
              "      <th>12</th>\n",
              "      <td>1.015647</td>\n",
              "      <td>Goiter</td>\n",
              "    </tr>\n",
              "    <tr>\n",
              "      <th>13</th>\n",
              "      <td>1.051562</td>\n",
              "      <td>Tumor</td>\n",
              "    </tr>\n",
              "    <tr>\n",
              "      <th>14</th>\n",
              "      <td>1.010426</td>\n",
              "      <td>Hypopituitary</td>\n",
              "    </tr>\n",
              "    <tr>\n",
              "      <th>15</th>\n",
              "      <td>1.089004</td>\n",
              "      <td>Psych</td>\n",
              "    </tr>\n",
              "    <tr>\n",
              "      <th>16</th>\n",
              "      <td>1.193886</td>\n",
              "      <td>TSH</td>\n",
              "    </tr>\n",
              "    <tr>\n",
              "      <th>17</th>\n",
              "      <td>11.745491</td>\n",
              "      <td>T3</td>\n",
              "    </tr>\n",
              "    <tr>\n",
              "      <th>18</th>\n",
              "      <td>62.645264</td>\n",
              "      <td>TT4</td>\n",
              "    </tr>\n",
              "    <tr>\n",
              "      <th>19</th>\n",
              "      <td>28.116650</td>\n",
              "      <td>T4U</td>\n",
              "    </tr>\n",
              "    <tr>\n",
              "      <th>20</th>\n",
              "      <td>42.393457</td>\n",
              "      <td>FTI</td>\n",
              "    </tr>\n",
              "  </tbody>\n",
              "</table>\n",
              "</div>"
            ],
            "text/plain": [
              "          VIF                   Features\n",
              "0    8.761229                        Age\n",
              "1    1.536490                        Sex\n",
              "2    1.261124               On_thyroxine\n",
              "3    1.032274         Query_on_thyroxine\n",
              "4    1.038240  On_antithyroid_medication\n",
              "5    1.054460                       Sick\n",
              "6    1.104453                   Pregnant\n",
              "7    1.020514            Thyroid surgery\n",
              "8    1.035218             I131_treatment\n",
              "9    1.099269          Query_hypothyroid\n",
              "10   1.127497         Query_hyperthyroid\n",
              "11   1.023250                    Lithium\n",
              "12   1.015647                     Goiter\n",
              "13   1.051562                      Tumor\n",
              "14   1.010426              Hypopituitary\n",
              "15   1.089004                      Psych\n",
              "16   1.193886                        TSH\n",
              "17  11.745491                         T3\n",
              "18  62.645264                        TT4\n",
              "19  28.116650                        T4U\n",
              "20  42.393457                        FTI"
            ]
          },
          "metadata": {
            "tags": []
          },
          "execution_count": 26
        }
      ]
    },
    {
      "cell_type": "code",
      "metadata": {
        "id": "XjTqbCAM2hbb"
      },
      "source": [
        "data_no_multicollinearity=clean_data.drop(['Age','T3','TT4','T4U','FTI'],axis=1)\n"
      ],
      "id": "XjTqbCAM2hbb",
      "execution_count": 27,
      "outputs": []
    },
    {
      "cell_type": "code",
      "metadata": {
        "id": "MpsYoWHa3RPS",
        "outputId": "d813391b-edf0-441a-cc89-25471fac9b6b",
        "colab": {
          "base_uri": "https://localhost:8080/",
          "height": 551
        }
      },
      "source": [
        "from statsmodels.stats.outliers_influence import variance_inflation_factor\n",
        "variables=data_no_multicollinearity\n",
        "\n",
        "vif=pd.DataFrame()\n",
        "vif[\"VIF\"]=[variance_inflation_factor(variables.values,i) for i in range(variables.shape[1])]\n",
        "vif['Features']=variables.columns\n",
        "vif\n"
      ],
      "id": "MpsYoWHa3RPS",
      "execution_count": 28,
      "outputs": [
        {
          "output_type": "execute_result",
          "data": {
            "text/html": [
              "<div>\n",
              "<style scoped>\n",
              "    .dataframe tbody tr th:only-of-type {\n",
              "        vertical-align: middle;\n",
              "    }\n",
              "\n",
              "    .dataframe tbody tr th {\n",
              "        vertical-align: top;\n",
              "    }\n",
              "\n",
              "    .dataframe thead th {\n",
              "        text-align: right;\n",
              "    }\n",
              "</style>\n",
              "<table border=\"1\" class=\"dataframe\">\n",
              "  <thead>\n",
              "    <tr style=\"text-align: right;\">\n",
              "      <th></th>\n",
              "      <th>VIF</th>\n",
              "      <th>Features</th>\n",
              "    </tr>\n",
              "  </thead>\n",
              "  <tbody>\n",
              "    <tr>\n",
              "      <th>0</th>\n",
              "      <td>1.112108</td>\n",
              "      <td>Sex</td>\n",
              "    </tr>\n",
              "    <tr>\n",
              "      <th>1</th>\n",
              "      <td>1.074064</td>\n",
              "      <td>On_thyroxine</td>\n",
              "    </tr>\n",
              "    <tr>\n",
              "      <th>2</th>\n",
              "      <td>1.025132</td>\n",
              "      <td>Query_on_thyroxine</td>\n",
              "    </tr>\n",
              "    <tr>\n",
              "      <th>3</th>\n",
              "      <td>1.019551</td>\n",
              "      <td>On_antithyroid_medication</td>\n",
              "    </tr>\n",
              "    <tr>\n",
              "      <th>4</th>\n",
              "      <td>1.017726</td>\n",
              "      <td>Sick</td>\n",
              "    </tr>\n",
              "    <tr>\n",
              "      <th>5</th>\n",
              "      <td>1.031568</td>\n",
              "      <td>Pregnant</td>\n",
              "    </tr>\n",
              "    <tr>\n",
              "      <th>6</th>\n",
              "      <td>1.007867</td>\n",
              "      <td>Thyroid surgery</td>\n",
              "    </tr>\n",
              "    <tr>\n",
              "      <th>7</th>\n",
              "      <td>1.024840</td>\n",
              "      <td>I131_treatment</td>\n",
              "    </tr>\n",
              "    <tr>\n",
              "      <th>8</th>\n",
              "      <td>1.059948</td>\n",
              "      <td>Query_hypothyroid</td>\n",
              "    </tr>\n",
              "    <tr>\n",
              "      <th>9</th>\n",
              "      <td>1.053595</td>\n",
              "      <td>Query_hyperthyroid</td>\n",
              "    </tr>\n",
              "    <tr>\n",
              "      <th>10</th>\n",
              "      <td>1.014270</td>\n",
              "      <td>Lithium</td>\n",
              "    </tr>\n",
              "    <tr>\n",
              "      <th>11</th>\n",
              "      <td>1.005370</td>\n",
              "      <td>Goiter</td>\n",
              "    </tr>\n",
              "    <tr>\n",
              "      <th>12</th>\n",
              "      <td>1.019389</td>\n",
              "      <td>Tumor</td>\n",
              "    </tr>\n",
              "    <tr>\n",
              "      <th>13</th>\n",
              "      <td>1.009277</td>\n",
              "      <td>Hypopituitary</td>\n",
              "    </tr>\n",
              "    <tr>\n",
              "      <th>14</th>\n",
              "      <td>1.053640</td>\n",
              "      <td>Psych</td>\n",
              "    </tr>\n",
              "    <tr>\n",
              "      <th>15</th>\n",
              "      <td>1.020351</td>\n",
              "      <td>TSH</td>\n",
              "    </tr>\n",
              "  </tbody>\n",
              "</table>\n",
              "</div>"
            ],
            "text/plain": [
              "         VIF                   Features\n",
              "0   1.112108                        Sex\n",
              "1   1.074064               On_thyroxine\n",
              "2   1.025132         Query_on_thyroxine\n",
              "3   1.019551  On_antithyroid_medication\n",
              "4   1.017726                       Sick\n",
              "5   1.031568                   Pregnant\n",
              "6   1.007867            Thyroid surgery\n",
              "7   1.024840             I131_treatment\n",
              "8   1.059948          Query_hypothyroid\n",
              "9   1.053595         Query_hyperthyroid\n",
              "10  1.014270                    Lithium\n",
              "11  1.005370                     Goiter\n",
              "12  1.019389                      Tumor\n",
              "13  1.009277              Hypopituitary\n",
              "14  1.053640                      Psych\n",
              "15  1.020351                        TSH"
            ]
          },
          "metadata": {
            "tags": []
          },
          "execution_count": 28
        }
      ]
    },
    {
      "cell_type": "code",
      "metadata": {
        "id": "B9dlwKPr3UbZ"
      },
      "source": [
        "data_no_multicollinearity=df.drop(['Age','T3','TT4','T4U','FTI'],axis=1)\n"
      ],
      "id": "B9dlwKPr3UbZ",
      "execution_count": 29,
      "outputs": []
    },
    {
      "cell_type": "code",
      "metadata": {
        "id": "VX5FKRBZTz0_"
      },
      "source": [
        "X = data_no_multicollinearity.drop('Class',axis=1)\n",
        "y=data_no_multicollinearity['Class']"
      ],
      "id": "VX5FKRBZTz0_",
      "execution_count": 30,
      "outputs": []
    },
    {
      "cell_type": "markdown",
      "metadata": {
        "id": "_YGbEHN037qm"
      },
      "source": [
        "## Feature Scaling"
      ],
      "id": "_YGbEHN037qm"
    },
    {
      "cell_type": "code",
      "metadata": {
        "id": "B_cKS3qN35Jo",
        "outputId": "b95c5da0-dad9-4cb7-c641-970701a72305",
        "colab": {
          "base_uri": "https://localhost:8080/"
        }
      },
      "source": [
        "scaler = StandardScaler()\n",
        "scaler.fit(X)"
      ],
      "id": "B_cKS3qN35Jo",
      "execution_count": 31,
      "outputs": [
        {
          "output_type": "execute_result",
          "data": {
            "text/plain": [
              "StandardScaler(copy=True, with_mean=True, with_std=True)"
            ]
          },
          "metadata": {
            "tags": []
          },
          "execution_count": 31
        }
      ]
    },
    {
      "cell_type": "code",
      "metadata": {
        "id": "Zsz0CeAkUJjY"
      },
      "source": [
        "scaler_feature = scaler.transform(X)"
      ],
      "id": "Zsz0CeAkUJjY",
      "execution_count": 32,
      "outputs": []
    },
    {
      "cell_type": "code",
      "metadata": {
        "id": "isrri5h4UKtF"
      },
      "source": [
        "df_feature = pd.DataFrame(scaler_feature,columns=X.columns)"
      ],
      "id": "isrri5h4UKtF",
      "execution_count": 33,
      "outputs": []
    },
    {
      "cell_type": "code",
      "metadata": {
        "colab": {
          "base_uri": "https://localhost:8080/",
          "height": 243
        },
        "id": "CdnlAxyTUNvo",
        "outputId": "4ee99aa4-088e-46f4-ac79-d9c51332092d"
      },
      "source": [
        "df_feature.head()"
      ],
      "id": "CdnlAxyTUNvo",
      "execution_count": 34,
      "outputs": [
        {
          "output_type": "execute_result",
          "data": {
            "text/html": [
              "<div>\n",
              "<style scoped>\n",
              "    .dataframe tbody tr th:only-of-type {\n",
              "        vertical-align: middle;\n",
              "    }\n",
              "\n",
              "    .dataframe tbody tr th {\n",
              "        vertical-align: top;\n",
              "    }\n",
              "\n",
              "    .dataframe thead th {\n",
              "        text-align: right;\n",
              "    }\n",
              "</style>\n",
              "<table border=\"1\" class=\"dataframe\">\n",
              "  <thead>\n",
              "    <tr style=\"text-align: right;\">\n",
              "      <th></th>\n",
              "      <th>Sex</th>\n",
              "      <th>On_thyroxine</th>\n",
              "      <th>Query_on_thyroxine</th>\n",
              "      <th>On_antithyroid_medication</th>\n",
              "      <th>Sick</th>\n",
              "      <th>Pregnant</th>\n",
              "      <th>Thyroid surgery</th>\n",
              "      <th>I131_treatment</th>\n",
              "      <th>Query_hypothyroid</th>\n",
              "      <th>Query_hyperthyroid</th>\n",
              "      <th>Lithium</th>\n",
              "      <th>Goiter</th>\n",
              "      <th>Tumor</th>\n",
              "      <th>Hypopituitary</th>\n",
              "      <th>Psych</th>\n",
              "      <th>TSH</th>\n",
              "    </tr>\n",
              "  </thead>\n",
              "  <tbody>\n",
              "    <tr>\n",
              "      <th>0</th>\n",
              "      <td>-0.661504</td>\n",
              "      <td>-0.387329</td>\n",
              "      <td>-0.12515</td>\n",
              "      <td>-0.113784</td>\n",
              "      <td>-0.199682</td>\n",
              "      <td>-0.104666</td>\n",
              "      <td>-0.119295</td>\n",
              "      <td>-0.130207</td>\n",
              "      <td>-0.264906</td>\n",
              "      <td>-0.271749</td>\n",
              "      <td>-0.113156</td>\n",
              "      <td>-0.090909</td>\n",
              "      <td>-0.161967</td>\n",
              "      <td>-0.011788</td>\n",
              "      <td>-0.226753</td>\n",
              "      <td>-0.200681</td>\n",
              "    </tr>\n",
              "    <tr>\n",
              "      <th>1</th>\n",
              "      <td>-0.661504</td>\n",
              "      <td>-0.387329</td>\n",
              "      <td>-0.12515</td>\n",
              "      <td>-0.113784</td>\n",
              "      <td>-0.199682</td>\n",
              "      <td>-0.104666</td>\n",
              "      <td>-0.119295</td>\n",
              "      <td>-0.130207</td>\n",
              "      <td>-0.264906</td>\n",
              "      <td>-0.271749</td>\n",
              "      <td>-0.113156</td>\n",
              "      <td>-0.090909</td>\n",
              "      <td>-0.161967</td>\n",
              "      <td>-0.011788</td>\n",
              "      <td>-0.226753</td>\n",
              "      <td>-0.128882</td>\n",
              "    </tr>\n",
              "    <tr>\n",
              "      <th>2</th>\n",
              "      <td>1.511707</td>\n",
              "      <td>-0.387329</td>\n",
              "      <td>-0.12515</td>\n",
              "      <td>-0.113784</td>\n",
              "      <td>-0.199682</td>\n",
              "      <td>-0.104666</td>\n",
              "      <td>-0.119295</td>\n",
              "      <td>-0.130207</td>\n",
              "      <td>-0.264906</td>\n",
              "      <td>-0.271749</td>\n",
              "      <td>-0.113156</td>\n",
              "      <td>-0.090909</td>\n",
              "      <td>-0.161967</td>\n",
              "      <td>-0.011788</td>\n",
              "      <td>-0.226753</td>\n",
              "      <td>-0.172397</td>\n",
              "    </tr>\n",
              "    <tr>\n",
              "      <th>3</th>\n",
              "      <td>-0.661504</td>\n",
              "      <td>-0.387329</td>\n",
              "      <td>-0.12515</td>\n",
              "      <td>-0.113784</td>\n",
              "      <td>-0.199682</td>\n",
              "      <td>-0.104666</td>\n",
              "      <td>-0.119295</td>\n",
              "      <td>-0.130207</td>\n",
              "      <td>-0.264906</td>\n",
              "      <td>-0.271749</td>\n",
              "      <td>-0.113156</td>\n",
              "      <td>-0.090909</td>\n",
              "      <td>-0.161967</td>\n",
              "      <td>-0.011788</td>\n",
              "      <td>-0.226753</td>\n",
              "      <td>-0.200681</td>\n",
              "    </tr>\n",
              "    <tr>\n",
              "      <th>4</th>\n",
              "      <td>1.511707</td>\n",
              "      <td>-0.387329</td>\n",
              "      <td>-0.12515</td>\n",
              "      <td>-0.113784</td>\n",
              "      <td>-0.199682</td>\n",
              "      <td>-0.104666</td>\n",
              "      <td>-0.119295</td>\n",
              "      <td>-0.130207</td>\n",
              "      <td>-0.264906</td>\n",
              "      <td>-0.271749</td>\n",
              "      <td>-0.113156</td>\n",
              "      <td>-0.090909</td>\n",
              "      <td>-0.161967</td>\n",
              "      <td>-0.011788</td>\n",
              "      <td>-0.226753</td>\n",
              "      <td>-0.200681</td>\n",
              "    </tr>\n",
              "  </tbody>\n",
              "</table>\n",
              "</div>"
            ],
            "text/plain": [
              "        Sex  On_thyroxine  ...     Psych       TSH\n",
              "0 -0.661504     -0.387329  ... -0.226753 -0.200681\n",
              "1 -0.661504     -0.387329  ... -0.226753 -0.128882\n",
              "2  1.511707     -0.387329  ... -0.226753 -0.172397\n",
              "3 -0.661504     -0.387329  ... -0.226753 -0.200681\n",
              "4  1.511707     -0.387329  ... -0.226753 -0.200681\n",
              "\n",
              "[5 rows x 16 columns]"
            ]
          },
          "metadata": {
            "tags": []
          },
          "execution_count": 34
        }
      ]
    },
    {
      "cell_type": "markdown",
      "metadata": {
        "id": "Gk-pjdjn5YWH"
      },
      "source": [
        "## Split data into training and testing"
      ],
      "id": "Gk-pjdjn5YWH"
    },
    {
      "cell_type": "code",
      "metadata": {
        "id": "8LeQI0AF5A4B"
      },
      "source": [
        "from sklearn.model_selection import train_test_split\n",
        "x_train,x_test,y_train,y_test=train_test_split(X,y,test_size=0.2,random_state=0)"
      ],
      "id": "8LeQI0AF5A4B",
      "execution_count": 35,
      "outputs": []
    },
    {
      "cell_type": "markdown",
      "metadata": {
        "id": "sW8k6Tjw5hPv"
      },
      "source": [
        "## Predictive Modelling"
      ],
      "id": "sW8k6Tjw5hPv"
    },
    {
      "cell_type": "markdown",
      "metadata": {
        "id": "STRl7AZZ5oy8"
      },
      "source": [
        "### Logistic Regression"
      ],
      "id": "STRl7AZZ5oy8"
    },
    {
      "cell_type": "code",
      "metadata": {
        "colab": {
          "base_uri": "https://localhost:8080/"
        },
        "id": "NK2A8CW05eDu",
        "outputId": "79b08399-4aab-4f3f-b436-878ab3c69a04"
      },
      "source": [
        "from sklearn.linear_model import LogisticRegression\n",
        "reg=LogisticRegression()\n",
        "reg.fit(x_train,y_train)\n",
        "y_pred=reg.predict(x_test)\n",
        "\n",
        "from sklearn.metrics import confusion_matrix,accuracy_score\n",
        "print(\"Logistic Regression\\n\")\n",
        "cm=confusion_matrix(y_test,y_pred)\n",
        "print(\"Confusion Matrix:\\n\\n\",cm)\n",
        "acc_lr=accuracy_score(y_test,y_pred)\n",
        "print(\"\\nAccuracy=\",acc_lr)\n"
      ],
      "id": "NK2A8CW05eDu",
      "execution_count": 36,
      "outputs": [
        {
          "output_type": "stream",
          "text": [
            "Logistic Regression\n",
            "\n",
            "Confusion Matrix:\n",
            "\n",
            " [[   5    0   31]\n",
            " [   0    0   80]\n",
            " [   0    0 1324]]\n",
            "\n",
            "Accuracy= 0.9229166666666667\n"
          ],
          "name": "stdout"
        }
      ]
    },
    {
      "cell_type": "markdown",
      "metadata": {
        "id": "PhpApMgH52VM"
      },
      "source": [
        "### Decision Tree Classifier"
      ],
      "id": "PhpApMgH52VM"
    },
    {
      "cell_type": "code",
      "metadata": {
        "id": "TGJOeuxT5xsB",
        "outputId": "fb5c08ea-a779-4376-bb84-51a0f183d90b",
        "colab": {
          "base_uri": "https://localhost:8080/"
        }
      },
      "source": [
        "from sklearn.tree import DecisionTreeClassifier\n",
        "dc=DecisionTreeClassifier(random_state=0)\n",
        "dc.fit(x_train,y_train)\n",
        "y_pred2=dc.predict(x_test)\n",
        "\n",
        "from sklearn.metrics import confusion_matrix,accuracy_score\n",
        "print(\"Decision Tree Classifier\\n\")\n",
        "cm=confusion_matrix(y_test,y_pred2)\n",
        "print(\"Confusion Matrix:\\n\\n\",cm)\n",
        "acc_dt=accuracy_score(y_test,y_pred2)\n",
        "print(\"\\nAccuracy=\",acc_dt)"
      ],
      "id": "TGJOeuxT5xsB",
      "execution_count": 37,
      "outputs": [
        {
          "output_type": "stream",
          "text": [
            "Decision Tree Classifier\n",
            "\n",
            "Confusion Matrix:\n",
            "\n",
            " [[  23    6    7]\n",
            " [  14   61    5]\n",
            " [   4    7 1313]]\n",
            "\n",
            "Accuracy= 0.9701388888888889\n"
          ],
          "name": "stdout"
        }
      ]
    },
    {
      "cell_type": "markdown",
      "metadata": {
        "id": "28oAS6El58Rs"
      },
      "source": [
        "### Random Forest Classifier"
      ],
      "id": "28oAS6El58Rs"
    },
    {
      "cell_type": "code",
      "metadata": {
        "id": "4nw7ZfS_5593",
        "outputId": "721aeb6a-77d4-4c04-ac07-a640a0c811b0",
        "colab": {
          "base_uri": "https://localhost:8080/"
        }
      },
      "source": [
        "from sklearn.ensemble import RandomForestClassifier\n",
        "classifier=RandomForestClassifier(n_estimators=20,criterion='entropy',random_state=0)\n",
        "classifier.fit(x_train,y_train)\n",
        "y_pred3=classifier.predict(x_test)\n",
        "\n",
        "from sklearn.metrics import confusion_matrix,accuracy_score\n",
        "print(\"Random Forest Classifier\\n\")\n",
        "cm=confusion_matrix(y_test,y_pred3)\n",
        "print(\"Confusion Matrix:\\n\\n\",cm)\n",
        "acc_rf=accuracy_score(y_test,y_pred3)\n",
        "print(\"\\nAccuracy=\",acc_rf)\n"
      ],
      "id": "4nw7ZfS_5593",
      "execution_count": 38,
      "outputs": [
        {
          "output_type": "stream",
          "text": [
            "Random Forest Classifier\n",
            "\n",
            "Confusion Matrix:\n",
            "\n",
            " [[  22    9    5]\n",
            " [  11   67    2]\n",
            " [   3    9 1312]]\n",
            "\n",
            "Accuracy= 0.9729166666666667\n"
          ],
          "name": "stdout"
        }
      ]
    },
    {
      "cell_type": "markdown",
      "metadata": {
        "id": "_-P5Vp356HAn"
      },
      "source": [
        "### Gradient Boosting Classifier"
      ],
      "id": "_-P5Vp356HAn"
    },
    {
      "cell_type": "code",
      "metadata": {
        "id": "H_DT2yD_5_9n",
        "outputId": "4efe830e-9506-4c33-a138-41a1209b9457",
        "colab": {
          "base_uri": "https://localhost:8080/"
        }
      },
      "source": [
        "from sklearn.ensemble import GradientBoostingClassifier\n",
        "gb=GradientBoostingClassifier()\n",
        "gb.fit(x_train,y_train)\n",
        "y_pred4=gb.predict(x_test)\n",
        "\n",
        "from sklearn.metrics import confusion_matrix,accuracy_score\n",
        "print(\"Gradient Boosting Classifier\\n\")\n",
        "cm=confusion_matrix(y_test,y_pred4)\n",
        "print(\"Confusion Matrix:\\n\\n\",cm)\n",
        "acc_gb=accuracy_score(y_test,y_pred4)\n",
        "print(\"\\nAccuracy=\",acc_gb)"
      ],
      "id": "H_DT2yD_5_9n",
      "execution_count": 39,
      "outputs": [
        {
          "output_type": "stream",
          "text": [
            "Gradient Boosting Classifier\n",
            "\n",
            "Confusion Matrix:\n",
            "\n",
            " [[  20   10    6]\n",
            " [   8   72    0]\n",
            " [   3    9 1312]]\n",
            "\n",
            "Accuracy= 0.975\n"
          ],
          "name": "stdout"
        }
      ]
    },
    {
      "cell_type": "markdown",
      "metadata": {
        "id": "QES5z8nn6RO9"
      },
      "source": [
        "### Support Vector Classifier"
      ],
      "id": "QES5z8nn6RO9"
    },
    {
      "cell_type": "code",
      "metadata": {
        "id": "-UpoCQCK6Mg9",
        "outputId": "8a38a697-efe8-49d0-893d-e643943442c8",
        "colab": {
          "base_uri": "https://localhost:8080/"
        }
      },
      "source": [
        "from sklearn.svm import SVC\n",
        "sv=SVC(kernel = 'linear')\n",
        "sv.fit(x_train,y_train)\n",
        "y_pred5=sv.predict(x_test)\n",
        "\n",
        "from sklearn.metrics import confusion_matrix,accuracy_score\n",
        "print(\"Support Vector Classifier\\n\")\n",
        "cm=confusion_matrix(y_test,y_pred5)\n",
        "print(\"Confusion Matrix:\\n\\n\",cm)\n",
        "acc_svr=accuracy_score(y_test,y_pred5)\n",
        "print(\"\\nAccuracy=\",acc_svr)"
      ],
      "id": "-UpoCQCK6Mg9",
      "execution_count": 40,
      "outputs": [
        {
          "output_type": "stream",
          "text": [
            "Support Vector Classifier\n",
            "\n",
            "Confusion Matrix:\n",
            "\n",
            " [[   8    0   28]\n",
            " [   0    0   80]\n",
            " [   0    0 1324]]\n",
            "\n",
            "Accuracy= 0.925\n"
          ],
          "name": "stdout"
        }
      ]
    },
    {
      "cell_type": "markdown",
      "metadata": {
        "id": "S5B7tsOOFkIF"
      },
      "source": [
        "## **Model Evaluation**"
      ],
      "id": "S5B7tsOOFkIF"
    },
    {
      "cell_type": "code",
      "metadata": {
        "colab": {
          "base_uri": "https://localhost:8080/",
          "height": 206
        },
        "id": "qMBAPYHxEuJe",
        "outputId": "0ef5c015-a7d6-4d20-d711-18de77ae552b"
      },
      "source": [
        "model_ev = pd.DataFrame({'Model': ['Logistic Regression','Gradient Boosting Classifier','Random Forest',\n",
        "                                   'Decision Tree','Support Vector Classifier'], \n",
        "                         'Accuracy': [acc_lr, acc_gb, acc_rf, acc_dt,acc_svr]})\n",
        "model_ev"
      ],
      "id": "qMBAPYHxEuJe",
      "execution_count": 41,
      "outputs": [
        {
          "output_type": "execute_result",
          "data": {
            "text/html": [
              "<div>\n",
              "<style scoped>\n",
              "    .dataframe tbody tr th:only-of-type {\n",
              "        vertical-align: middle;\n",
              "    }\n",
              "\n",
              "    .dataframe tbody tr th {\n",
              "        vertical-align: top;\n",
              "    }\n",
              "\n",
              "    .dataframe thead th {\n",
              "        text-align: right;\n",
              "    }\n",
              "</style>\n",
              "<table border=\"1\" class=\"dataframe\">\n",
              "  <thead>\n",
              "    <tr style=\"text-align: right;\">\n",
              "      <th></th>\n",
              "      <th>Model</th>\n",
              "      <th>Accuracy</th>\n",
              "    </tr>\n",
              "  </thead>\n",
              "  <tbody>\n",
              "    <tr>\n",
              "      <th>0</th>\n",
              "      <td>Logistic Regression</td>\n",
              "      <td>0.922917</td>\n",
              "    </tr>\n",
              "    <tr>\n",
              "      <th>1</th>\n",
              "      <td>Gradient Boosting Classifier</td>\n",
              "      <td>0.975000</td>\n",
              "    </tr>\n",
              "    <tr>\n",
              "      <th>2</th>\n",
              "      <td>Random Forest</td>\n",
              "      <td>0.972917</td>\n",
              "    </tr>\n",
              "    <tr>\n",
              "      <th>3</th>\n",
              "      <td>Decision Tree</td>\n",
              "      <td>0.970139</td>\n",
              "    </tr>\n",
              "    <tr>\n",
              "      <th>4</th>\n",
              "      <td>Support Vector Classifier</td>\n",
              "      <td>0.925000</td>\n",
              "    </tr>\n",
              "  </tbody>\n",
              "</table>\n",
              "</div>"
            ],
            "text/plain": [
              "                          Model  Accuracy\n",
              "0           Logistic Regression  0.922917\n",
              "1  Gradient Boosting Classifier  0.975000\n",
              "2                 Random Forest  0.972917\n",
              "3                 Decision Tree  0.970139\n",
              "4     Support Vector Classifier  0.925000"
            ]
          },
          "metadata": {
            "tags": []
          },
          "execution_count": 41
        }
      ]
    },
    {
      "cell_type": "code",
      "metadata": {
        "colab": {
          "base_uri": "https://localhost:8080/",
          "height": 497
        },
        "id": "4VkpuHCiEuRB",
        "outputId": "bba92075-1455-484a-f538-1b1b870e4e38"
      },
      "source": [
        "colors = ['red','green','blue','gold','orange']\n",
        "plt.figure(figsize=(15,8), facecolor='w')\n",
        "plt.title(\"Barplot Representing Accuracy of different models\")\n",
        "plt.ylabel(\"Accuracy %\")\n",
        "plt.xlabel(\"Models\")\n",
        "plt.bar(model_ev['Model'],model_ev['Accuracy'],color = colors)\n",
        "plt.show()"
      ],
      "id": "4VkpuHCiEuRB",
      "execution_count": 42,
      "outputs": [
        {
          "output_type": "display_data",
          "data": {
            "image/png": "[encoded data removed]",
            "text/plain": [
              "<Figure size 1080x576 with 1 Axes>"
            ]
          },
          "metadata": {
            "tags": []
          }
        }
      ]
    },
    {
      "cell_type": "markdown",
      "metadata": {
        "id": "F0Z2mEMj766N"
      },
      "source": [
        "## Final model"
      ],
      "id": "F0Z2mEMj766N"
    },
    {
      "cell_type": "code",
      "metadata": {
        "id": "EdOe4O_57_7Y",
        "outputId": "556e15d1-0654-4f4d-d5de-81a1db103711",
        "colab": {
          "base_uri": "https://localhost:8080/"
        }
      },
      "source": [
        "model=GradientBoostingClassifier()\n",
        "model.fit(x_train,y_train)\n",
        "prediction=gb.predict(x_test)\n",
        "\n",
        "from sklearn.metrics import confusion_matrix,accuracy_score\n",
        "print(\"Gradient Boosting Classifier\\n\")\n",
        "cm=confusion_matrix(y_test,prediction)\n",
        "print(\"Confusion Matrix:\\n\\n\",cm)\n",
        "acc_gb=accuracy_score(y_test,prediction)\n",
        "print(\"\\nAccuracy=\",acc_gb)\n",
        "print(\"\\nPrediction:\",prediction)"
      ],
      "id": "EdOe4O_57_7Y",
      "execution_count": 43,
      "outputs": [
        {
          "output_type": "stream",
          "text": [
            "Gradient Boosting Classifier\n",
            "\n",
            "Confusion Matrix:\n",
            "\n",
            " [[  20   10    6]\n",
            " [   8   72    0]\n",
            " [   3    9 1312]]\n",
            "\n",
            "Accuracy= 0.975\n",
            "\n",
            "Prediction: [3 3 3 ... 3 3 3]\n"
          ],
          "name": "stdout"
        }
      ]
    },
    {
      "cell_type": "markdown",
      "metadata": {
        "id": "oWyhP2-8IUKQ"
      },
      "source": [
        "## Conclusion"
      ],
      "id": "oWyhP2-8IUKQ"
    },
    {
      "cell_type": "markdown",
      "metadata": {
        "id": "nX8cIRsvIuGH"
      },
      "source": [
        "Gradient Boosting Classifier Model performs best among all models with an accuracy of 97.5%.\n",
        "\n"
      ],
      "id": "nX8cIRsvIuGH"
    },
    {
      "cell_type": "code",
      "metadata": {
        "id": "V331XSEDIhjf"
      },
      "source": [
        ""
      ],
      "id": "V331XSEDIhjf",
      "execution_count": 43,
      "outputs": []
    }
  ]
}